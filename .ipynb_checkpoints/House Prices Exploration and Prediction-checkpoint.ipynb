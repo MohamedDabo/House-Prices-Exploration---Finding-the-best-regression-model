{
 "cells": [
  {
   "cell_type": "markdown",
   "metadata": {},
   "source": [
    "# **DESCRIPTION ABOUT THE DATA**\n",
    "Please refer to the readme file to take a look at a detailed description of the data."
   ]
  },
  {
   "cell_type": "markdown",
   "metadata": {},
   "source": [
    "# **IMPORTING NECESSARY LIBRAIRIES**"
   ]
  },
  {
   "cell_type": "code",
   "execution_count": 1,
   "metadata": {},
   "outputs": [
    {
     "name": "stderr",
     "output_type": "stream",
     "text": [
      "Using TensorFlow backend.\n"
     ]
    }
   ],
   "source": [
    "# Pandas and numpy for data manipulation\n",
    "import numpy as np\n",
    "import pandas as pd\n",
    "\n",
    "# Matplotlib for data visualization\n",
    "import matplotlib.pyplot as plt\n",
    "%matplotlib inline\n",
    "\n",
    "# Seaborn for visualization\n",
    "import seaborn as sns\n",
    "\n",
    "# Scikit-learn for machine learning\n",
    "import sklearn as sk\n",
    "\n",
    "# KNN imputer from the fancyimpute library(https://pypi.org/project/fancyimpute/)\n",
    "from fancyimpute import KNN\n",
    "\n",
    "# Normal distribution model and Spearman's correlation coefficient estimator\n",
    "from scipy.stats import norm, spearmanr, f_oneway\n",
    "\n",
    "#Train_Test_Split\n",
    "from sklearn.model_selection import train_test_split\n",
    "\n",
    "# Machine Learning Models\n",
    "from sklearn.linear_model import LinearRegression\n",
    "from sklearn.linear_model import HuberRegressor\n",
    "from sklearn.ensemble import GradientBoostingRegressor\n",
    "from sklearn.tree import DecisionTreeRegressor\n",
    "from sklearn.svm import SVR\n",
    "\n",
    "# Scaling values\n",
    "from sklearn.preprocessing import MinMaxScaler"
   ]
  },
  {
   "cell_type": "markdown",
   "metadata": {},
   "source": [
    "# **READING THE DATA**\n",
    "The data for this project is in the file \"train.csv\""
   ]
  },
  {
   "cell_type": "code",
   "execution_count": 2,
   "metadata": {},
   "outputs": [
    {
     "data": {
      "text/html": [
       "<div>\n",
       "<style scoped>\n",
       "    .dataframe tbody tr th:only-of-type {\n",
       "        vertical-align: middle;\n",
       "    }\n",
       "\n",
       "    .dataframe tbody tr th {\n",
       "        vertical-align: top;\n",
       "    }\n",
       "\n",
       "    .dataframe thead th {\n",
       "        text-align: right;\n",
       "    }\n",
       "</style>\n",
       "<table border=\"1\" class=\"dataframe\">\n",
       "  <thead>\n",
       "    <tr style=\"text-align: right;\">\n",
       "      <th></th>\n",
       "      <th>Id</th>\n",
       "      <th>MSSubClass</th>\n",
       "      <th>MSZoning</th>\n",
       "      <th>LotFrontage</th>\n",
       "      <th>LotArea</th>\n",
       "      <th>Street</th>\n",
       "      <th>Alley</th>\n",
       "      <th>LotShape</th>\n",
       "      <th>LandContour</th>\n",
       "      <th>Utilities</th>\n",
       "      <th>...</th>\n",
       "      <th>PoolArea</th>\n",
       "      <th>PoolQC</th>\n",
       "      <th>Fence</th>\n",
       "      <th>MiscFeature</th>\n",
       "      <th>MiscVal</th>\n",
       "      <th>MoSold</th>\n",
       "      <th>YrSold</th>\n",
       "      <th>SaleType</th>\n",
       "      <th>SaleCondition</th>\n",
       "      <th>SalePrice</th>\n",
       "    </tr>\n",
       "  </thead>\n",
       "  <tbody>\n",
       "    <tr>\n",
       "      <th>0</th>\n",
       "      <td>1</td>\n",
       "      <td>60</td>\n",
       "      <td>RL</td>\n",
       "      <td>65.0</td>\n",
       "      <td>8450</td>\n",
       "      <td>Pave</td>\n",
       "      <td>NaN</td>\n",
       "      <td>Reg</td>\n",
       "      <td>Lvl</td>\n",
       "      <td>AllPub</td>\n",
       "      <td>...</td>\n",
       "      <td>0</td>\n",
       "      <td>NaN</td>\n",
       "      <td>NaN</td>\n",
       "      <td>NaN</td>\n",
       "      <td>0</td>\n",
       "      <td>2</td>\n",
       "      <td>2008</td>\n",
       "      <td>WD</td>\n",
       "      <td>Normal</td>\n",
       "      <td>208500</td>\n",
       "    </tr>\n",
       "    <tr>\n",
       "      <th>1</th>\n",
       "      <td>2</td>\n",
       "      <td>20</td>\n",
       "      <td>RL</td>\n",
       "      <td>80.0</td>\n",
       "      <td>9600</td>\n",
       "      <td>Pave</td>\n",
       "      <td>NaN</td>\n",
       "      <td>Reg</td>\n",
       "      <td>Lvl</td>\n",
       "      <td>AllPub</td>\n",
       "      <td>...</td>\n",
       "      <td>0</td>\n",
       "      <td>NaN</td>\n",
       "      <td>NaN</td>\n",
       "      <td>NaN</td>\n",
       "      <td>0</td>\n",
       "      <td>5</td>\n",
       "      <td>2007</td>\n",
       "      <td>WD</td>\n",
       "      <td>Normal</td>\n",
       "      <td>181500</td>\n",
       "    </tr>\n",
       "    <tr>\n",
       "      <th>2</th>\n",
       "      <td>3</td>\n",
       "      <td>60</td>\n",
       "      <td>RL</td>\n",
       "      <td>68.0</td>\n",
       "      <td>11250</td>\n",
       "      <td>Pave</td>\n",
       "      <td>NaN</td>\n",
       "      <td>IR1</td>\n",
       "      <td>Lvl</td>\n",
       "      <td>AllPub</td>\n",
       "      <td>...</td>\n",
       "      <td>0</td>\n",
       "      <td>NaN</td>\n",
       "      <td>NaN</td>\n",
       "      <td>NaN</td>\n",
       "      <td>0</td>\n",
       "      <td>9</td>\n",
       "      <td>2008</td>\n",
       "      <td>WD</td>\n",
       "      <td>Normal</td>\n",
       "      <td>223500</td>\n",
       "    </tr>\n",
       "    <tr>\n",
       "      <th>3</th>\n",
       "      <td>4</td>\n",
       "      <td>70</td>\n",
       "      <td>RL</td>\n",
       "      <td>60.0</td>\n",
       "      <td>9550</td>\n",
       "      <td>Pave</td>\n",
       "      <td>NaN</td>\n",
       "      <td>IR1</td>\n",
       "      <td>Lvl</td>\n",
       "      <td>AllPub</td>\n",
       "      <td>...</td>\n",
       "      <td>0</td>\n",
       "      <td>NaN</td>\n",
       "      <td>NaN</td>\n",
       "      <td>NaN</td>\n",
       "      <td>0</td>\n",
       "      <td>2</td>\n",
       "      <td>2006</td>\n",
       "      <td>WD</td>\n",
       "      <td>Abnorml</td>\n",
       "      <td>140000</td>\n",
       "    </tr>\n",
       "    <tr>\n",
       "      <th>4</th>\n",
       "      <td>5</td>\n",
       "      <td>60</td>\n",
       "      <td>RL</td>\n",
       "      <td>84.0</td>\n",
       "      <td>14260</td>\n",
       "      <td>Pave</td>\n",
       "      <td>NaN</td>\n",
       "      <td>IR1</td>\n",
       "      <td>Lvl</td>\n",
       "      <td>AllPub</td>\n",
       "      <td>...</td>\n",
       "      <td>0</td>\n",
       "      <td>NaN</td>\n",
       "      <td>NaN</td>\n",
       "      <td>NaN</td>\n",
       "      <td>0</td>\n",
       "      <td>12</td>\n",
       "      <td>2008</td>\n",
       "      <td>WD</td>\n",
       "      <td>Normal</td>\n",
       "      <td>250000</td>\n",
       "    </tr>\n",
       "    <tr>\n",
       "      <th>5</th>\n",
       "      <td>6</td>\n",
       "      <td>50</td>\n",
       "      <td>RL</td>\n",
       "      <td>85.0</td>\n",
       "      <td>14115</td>\n",
       "      <td>Pave</td>\n",
       "      <td>NaN</td>\n",
       "      <td>IR1</td>\n",
       "      <td>Lvl</td>\n",
       "      <td>AllPub</td>\n",
       "      <td>...</td>\n",
       "      <td>0</td>\n",
       "      <td>NaN</td>\n",
       "      <td>MnPrv</td>\n",
       "      <td>Shed</td>\n",
       "      <td>700</td>\n",
       "      <td>10</td>\n",
       "      <td>2009</td>\n",
       "      <td>WD</td>\n",
       "      <td>Normal</td>\n",
       "      <td>143000</td>\n",
       "    </tr>\n",
       "    <tr>\n",
       "      <th>6</th>\n",
       "      <td>7</td>\n",
       "      <td>20</td>\n",
       "      <td>RL</td>\n",
       "      <td>75.0</td>\n",
       "      <td>10084</td>\n",
       "      <td>Pave</td>\n",
       "      <td>NaN</td>\n",
       "      <td>Reg</td>\n",
       "      <td>Lvl</td>\n",
       "      <td>AllPub</td>\n",
       "      <td>...</td>\n",
       "      <td>0</td>\n",
       "      <td>NaN</td>\n",
       "      <td>NaN</td>\n",
       "      <td>NaN</td>\n",
       "      <td>0</td>\n",
       "      <td>8</td>\n",
       "      <td>2007</td>\n",
       "      <td>WD</td>\n",
       "      <td>Normal</td>\n",
       "      <td>307000</td>\n",
       "    </tr>\n",
       "    <tr>\n",
       "      <th>7</th>\n",
       "      <td>8</td>\n",
       "      <td>60</td>\n",
       "      <td>RL</td>\n",
       "      <td>NaN</td>\n",
       "      <td>10382</td>\n",
       "      <td>Pave</td>\n",
       "      <td>NaN</td>\n",
       "      <td>IR1</td>\n",
       "      <td>Lvl</td>\n",
       "      <td>AllPub</td>\n",
       "      <td>...</td>\n",
       "      <td>0</td>\n",
       "      <td>NaN</td>\n",
       "      <td>NaN</td>\n",
       "      <td>Shed</td>\n",
       "      <td>350</td>\n",
       "      <td>11</td>\n",
       "      <td>2009</td>\n",
       "      <td>WD</td>\n",
       "      <td>Normal</td>\n",
       "      <td>200000</td>\n",
       "    </tr>\n",
       "    <tr>\n",
       "      <th>8</th>\n",
       "      <td>9</td>\n",
       "      <td>50</td>\n",
       "      <td>RM</td>\n",
       "      <td>51.0</td>\n",
       "      <td>6120</td>\n",
       "      <td>Pave</td>\n",
       "      <td>NaN</td>\n",
       "      <td>Reg</td>\n",
       "      <td>Lvl</td>\n",
       "      <td>AllPub</td>\n",
       "      <td>...</td>\n",
       "      <td>0</td>\n",
       "      <td>NaN</td>\n",
       "      <td>NaN</td>\n",
       "      <td>NaN</td>\n",
       "      <td>0</td>\n",
       "      <td>4</td>\n",
       "      <td>2008</td>\n",
       "      <td>WD</td>\n",
       "      <td>Abnorml</td>\n",
       "      <td>129900</td>\n",
       "    </tr>\n",
       "    <tr>\n",
       "      <th>9</th>\n",
       "      <td>10</td>\n",
       "      <td>190</td>\n",
       "      <td>RL</td>\n",
       "      <td>50.0</td>\n",
       "      <td>7420</td>\n",
       "      <td>Pave</td>\n",
       "      <td>NaN</td>\n",
       "      <td>Reg</td>\n",
       "      <td>Lvl</td>\n",
       "      <td>AllPub</td>\n",
       "      <td>...</td>\n",
       "      <td>0</td>\n",
       "      <td>NaN</td>\n",
       "      <td>NaN</td>\n",
       "      <td>NaN</td>\n",
       "      <td>0</td>\n",
       "      <td>1</td>\n",
       "      <td>2008</td>\n",
       "      <td>WD</td>\n",
       "      <td>Normal</td>\n",
       "      <td>118000</td>\n",
       "    </tr>\n",
       "  </tbody>\n",
       "</table>\n",
       "<p>10 rows × 81 columns</p>\n",
       "</div>"
      ],
      "text/plain": [
       "   Id  MSSubClass MSZoning  LotFrontage  LotArea Street Alley LotShape  \\\n",
       "0   1          60       RL         65.0     8450   Pave   NaN      Reg   \n",
       "1   2          20       RL         80.0     9600   Pave   NaN      Reg   \n",
       "2   3          60       RL         68.0    11250   Pave   NaN      IR1   \n",
       "3   4          70       RL         60.0     9550   Pave   NaN      IR1   \n",
       "4   5          60       RL         84.0    14260   Pave   NaN      IR1   \n",
       "5   6          50       RL         85.0    14115   Pave   NaN      IR1   \n",
       "6   7          20       RL         75.0    10084   Pave   NaN      Reg   \n",
       "7   8          60       RL          NaN    10382   Pave   NaN      IR1   \n",
       "8   9          50       RM         51.0     6120   Pave   NaN      Reg   \n",
       "9  10         190       RL         50.0     7420   Pave   NaN      Reg   \n",
       "\n",
       "  LandContour Utilities    ...     PoolArea PoolQC  Fence MiscFeature MiscVal  \\\n",
       "0         Lvl    AllPub    ...            0    NaN    NaN         NaN       0   \n",
       "1         Lvl    AllPub    ...            0    NaN    NaN         NaN       0   \n",
       "2         Lvl    AllPub    ...            0    NaN    NaN         NaN       0   \n",
       "3         Lvl    AllPub    ...            0    NaN    NaN         NaN       0   \n",
       "4         Lvl    AllPub    ...            0    NaN    NaN         NaN       0   \n",
       "5         Lvl    AllPub    ...            0    NaN  MnPrv        Shed     700   \n",
       "6         Lvl    AllPub    ...            0    NaN    NaN         NaN       0   \n",
       "7         Lvl    AllPub    ...            0    NaN    NaN        Shed     350   \n",
       "8         Lvl    AllPub    ...            0    NaN    NaN         NaN       0   \n",
       "9         Lvl    AllPub    ...            0    NaN    NaN         NaN       0   \n",
       "\n",
       "  MoSold YrSold  SaleType  SaleCondition  SalePrice  \n",
       "0      2   2008        WD         Normal     208500  \n",
       "1      5   2007        WD         Normal     181500  \n",
       "2      9   2008        WD         Normal     223500  \n",
       "3      2   2006        WD        Abnorml     140000  \n",
       "4     12   2008        WD         Normal     250000  \n",
       "5     10   2009        WD         Normal     143000  \n",
       "6      8   2007        WD         Normal     307000  \n",
       "7     11   2009        WD         Normal     200000  \n",
       "8      4   2008        WD        Abnorml     129900  \n",
       "9      1   2008        WD         Normal     118000  \n",
       "\n",
       "[10 rows x 81 columns]"
      ]
     },
     "execution_count": 2,
     "metadata": {},
     "output_type": "execute_result"
    }
   ],
   "source": [
    "# Loading train.csv into a dataframe\n",
    "train_df = pd.read_csv('train.csv')\n",
    "\n",
    "# view of the first 10 rows\n",
    "train_df.head(10)"
   ]
  },
  {
   "cell_type": "code",
   "execution_count": 3,
   "metadata": {},
   "outputs": [
    {
     "name": "stdout",
     "output_type": "stream",
     "text": [
      "<class 'pandas.core.frame.DataFrame'>\n",
      "RangeIndex: 1460 entries, 0 to 1459\n",
      "Data columns (total 81 columns):\n",
      "Id               1460 non-null int64\n",
      "MSSubClass       1460 non-null int64\n",
      "MSZoning         1460 non-null object\n",
      "LotFrontage      1201 non-null float64\n",
      "LotArea          1460 non-null int64\n",
      "Street           1460 non-null object\n",
      "Alley            91 non-null object\n",
      "LotShape         1460 non-null object\n",
      "LandContour      1460 non-null object\n",
      "Utilities        1460 non-null object\n",
      "LotConfig        1460 non-null object\n",
      "LandSlope        1460 non-null object\n",
      "Neighborhood     1460 non-null object\n",
      "Condition1       1460 non-null object\n",
      "Condition2       1460 non-null object\n",
      "BldgType         1460 non-null object\n",
      "HouseStyle       1460 non-null object\n",
      "OverallQual      1460 non-null int64\n",
      "OverallCond      1460 non-null int64\n",
      "YearBuilt        1460 non-null int64\n",
      "YearRemodAdd     1460 non-null int64\n",
      "RoofStyle        1460 non-null object\n",
      "RoofMatl         1460 non-null object\n",
      "Exterior1st      1460 non-null object\n",
      "Exterior2nd      1460 non-null object\n",
      "MasVnrType       1452 non-null object\n",
      "MasVnrArea       1452 non-null float64\n",
      "ExterQual        1460 non-null object\n",
      "ExterCond        1460 non-null object\n",
      "Foundation       1460 non-null object\n",
      "BsmtQual         1423 non-null object\n",
      "BsmtCond         1423 non-null object\n",
      "BsmtExposure     1422 non-null object\n",
      "BsmtFinType1     1423 non-null object\n",
      "BsmtFinSF1       1460 non-null int64\n",
      "BsmtFinType2     1422 non-null object\n",
      "BsmtFinSF2       1460 non-null int64\n",
      "BsmtUnfSF        1460 non-null int64\n",
      "TotalBsmtSF      1460 non-null int64\n",
      "Heating          1460 non-null object\n",
      "HeatingQC        1460 non-null object\n",
      "CentralAir       1460 non-null object\n",
      "Electrical       1459 non-null object\n",
      "1stFlrSF         1460 non-null int64\n",
      "2ndFlrSF         1460 non-null int64\n",
      "LowQualFinSF     1460 non-null int64\n",
      "GrLivArea        1460 non-null int64\n",
      "BsmtFullBath     1460 non-null int64\n",
      "BsmtHalfBath     1460 non-null int64\n",
      "FullBath         1460 non-null int64\n",
      "HalfBath         1460 non-null int64\n",
      "BedroomAbvGr     1460 non-null int64\n",
      "KitchenAbvGr     1460 non-null int64\n",
      "KitchenQual      1460 non-null object\n",
      "TotRmsAbvGrd     1460 non-null int64\n",
      "Functional       1460 non-null object\n",
      "Fireplaces       1460 non-null int64\n",
      "FireplaceQu      770 non-null object\n",
      "GarageType       1379 non-null object\n",
      "GarageYrBlt      1379 non-null float64\n",
      "GarageFinish     1379 non-null object\n",
      "GarageCars       1460 non-null int64\n",
      "GarageArea       1460 non-null int64\n",
      "GarageQual       1379 non-null object\n",
      "GarageCond       1379 non-null object\n",
      "PavedDrive       1460 non-null object\n",
      "WoodDeckSF       1460 non-null int64\n",
      "OpenPorchSF      1460 non-null int64\n",
      "EnclosedPorch    1460 non-null int64\n",
      "3SsnPorch        1460 non-null int64\n",
      "ScreenPorch      1460 non-null int64\n",
      "PoolArea         1460 non-null int64\n",
      "PoolQC           7 non-null object\n",
      "Fence            281 non-null object\n",
      "MiscFeature      54 non-null object\n",
      "MiscVal          1460 non-null int64\n",
      "MoSold           1460 non-null int64\n",
      "YrSold           1460 non-null int64\n",
      "SaleType         1460 non-null object\n",
      "SaleCondition    1460 non-null object\n",
      "SalePrice        1460 non-null int64\n",
      "dtypes: float64(3), int64(35), object(43)\n",
      "memory usage: 924.0+ KB\n"
     ]
    }
   ],
   "source": [
    "train_df.info()"
   ]
  },
  {
   "cell_type": "markdown",
   "metadata": {},
   "source": [
    "This dataset contains 1460 observations and 81 features."
   ]
  },
  {
   "cell_type": "markdown",
   "metadata": {},
   "source": [
    "# **DATA CLEANING AND FORMATTING**\n",
    "The first step is to make sure that the data is reliable, that is handling duplicates, missing values and outliers.\n",
    "### **DUPLICATES**"
   ]
  },
  {
   "cell_type": "code",
   "execution_count": 4,
   "metadata": {},
   "outputs": [
    {
     "data": {
      "text/plain": [
       "0"
      ]
     },
     "execution_count": 4,
     "metadata": {},
     "output_type": "execute_result"
    }
   ],
   "source": [
    "train_df.duplicated().sum()"
   ]
  },
  {
   "cell_type": "markdown",
   "metadata": {},
   "source": [
    "#### There are no duplicated observations in the dataset. We can also delete the Id column since it doesn't provide any relevant information."
   ]
  },
  {
   "cell_type": "code",
   "execution_count": 5,
   "metadata": {},
   "outputs": [
    {
     "data": {
      "text/html": [
       "<div>\n",
       "<style scoped>\n",
       "    .dataframe tbody tr th:only-of-type {\n",
       "        vertical-align: middle;\n",
       "    }\n",
       "\n",
       "    .dataframe tbody tr th {\n",
       "        vertical-align: top;\n",
       "    }\n",
       "\n",
       "    .dataframe thead th {\n",
       "        text-align: right;\n",
       "    }\n",
       "</style>\n",
       "<table border=\"1\" class=\"dataframe\">\n",
       "  <thead>\n",
       "    <tr style=\"text-align: right;\">\n",
       "      <th></th>\n",
       "      <th>MSSubClass</th>\n",
       "      <th>MSZoning</th>\n",
       "      <th>LotFrontage</th>\n",
       "      <th>LotArea</th>\n",
       "      <th>Street</th>\n",
       "      <th>Alley</th>\n",
       "      <th>LotShape</th>\n",
       "      <th>LandContour</th>\n",
       "      <th>Utilities</th>\n",
       "      <th>LotConfig</th>\n",
       "      <th>...</th>\n",
       "      <th>PoolArea</th>\n",
       "      <th>PoolQC</th>\n",
       "      <th>Fence</th>\n",
       "      <th>MiscFeature</th>\n",
       "      <th>MiscVal</th>\n",
       "      <th>MoSold</th>\n",
       "      <th>YrSold</th>\n",
       "      <th>SaleType</th>\n",
       "      <th>SaleCondition</th>\n",
       "      <th>SalePrice</th>\n",
       "    </tr>\n",
       "  </thead>\n",
       "  <tbody>\n",
       "    <tr>\n",
       "      <th>0</th>\n",
       "      <td>60</td>\n",
       "      <td>RL</td>\n",
       "      <td>65.0</td>\n",
       "      <td>8450</td>\n",
       "      <td>Pave</td>\n",
       "      <td>NaN</td>\n",
       "      <td>Reg</td>\n",
       "      <td>Lvl</td>\n",
       "      <td>AllPub</td>\n",
       "      <td>Inside</td>\n",
       "      <td>...</td>\n",
       "      <td>0</td>\n",
       "      <td>NaN</td>\n",
       "      <td>NaN</td>\n",
       "      <td>NaN</td>\n",
       "      <td>0</td>\n",
       "      <td>2</td>\n",
       "      <td>2008</td>\n",
       "      <td>WD</td>\n",
       "      <td>Normal</td>\n",
       "      <td>208500</td>\n",
       "    </tr>\n",
       "    <tr>\n",
       "      <th>1</th>\n",
       "      <td>20</td>\n",
       "      <td>RL</td>\n",
       "      <td>80.0</td>\n",
       "      <td>9600</td>\n",
       "      <td>Pave</td>\n",
       "      <td>NaN</td>\n",
       "      <td>Reg</td>\n",
       "      <td>Lvl</td>\n",
       "      <td>AllPub</td>\n",
       "      <td>FR2</td>\n",
       "      <td>...</td>\n",
       "      <td>0</td>\n",
       "      <td>NaN</td>\n",
       "      <td>NaN</td>\n",
       "      <td>NaN</td>\n",
       "      <td>0</td>\n",
       "      <td>5</td>\n",
       "      <td>2007</td>\n",
       "      <td>WD</td>\n",
       "      <td>Normal</td>\n",
       "      <td>181500</td>\n",
       "    </tr>\n",
       "    <tr>\n",
       "      <th>2</th>\n",
       "      <td>60</td>\n",
       "      <td>RL</td>\n",
       "      <td>68.0</td>\n",
       "      <td>11250</td>\n",
       "      <td>Pave</td>\n",
       "      <td>NaN</td>\n",
       "      <td>IR1</td>\n",
       "      <td>Lvl</td>\n",
       "      <td>AllPub</td>\n",
       "      <td>Inside</td>\n",
       "      <td>...</td>\n",
       "      <td>0</td>\n",
       "      <td>NaN</td>\n",
       "      <td>NaN</td>\n",
       "      <td>NaN</td>\n",
       "      <td>0</td>\n",
       "      <td>9</td>\n",
       "      <td>2008</td>\n",
       "      <td>WD</td>\n",
       "      <td>Normal</td>\n",
       "      <td>223500</td>\n",
       "    </tr>\n",
       "    <tr>\n",
       "      <th>3</th>\n",
       "      <td>70</td>\n",
       "      <td>RL</td>\n",
       "      <td>60.0</td>\n",
       "      <td>9550</td>\n",
       "      <td>Pave</td>\n",
       "      <td>NaN</td>\n",
       "      <td>IR1</td>\n",
       "      <td>Lvl</td>\n",
       "      <td>AllPub</td>\n",
       "      <td>Corner</td>\n",
       "      <td>...</td>\n",
       "      <td>0</td>\n",
       "      <td>NaN</td>\n",
       "      <td>NaN</td>\n",
       "      <td>NaN</td>\n",
       "      <td>0</td>\n",
       "      <td>2</td>\n",
       "      <td>2006</td>\n",
       "      <td>WD</td>\n",
       "      <td>Abnorml</td>\n",
       "      <td>140000</td>\n",
       "    </tr>\n",
       "    <tr>\n",
       "      <th>4</th>\n",
       "      <td>60</td>\n",
       "      <td>RL</td>\n",
       "      <td>84.0</td>\n",
       "      <td>14260</td>\n",
       "      <td>Pave</td>\n",
       "      <td>NaN</td>\n",
       "      <td>IR1</td>\n",
       "      <td>Lvl</td>\n",
       "      <td>AllPub</td>\n",
       "      <td>FR2</td>\n",
       "      <td>...</td>\n",
       "      <td>0</td>\n",
       "      <td>NaN</td>\n",
       "      <td>NaN</td>\n",
       "      <td>NaN</td>\n",
       "      <td>0</td>\n",
       "      <td>12</td>\n",
       "      <td>2008</td>\n",
       "      <td>WD</td>\n",
       "      <td>Normal</td>\n",
       "      <td>250000</td>\n",
       "    </tr>\n",
       "  </tbody>\n",
       "</table>\n",
       "<p>5 rows × 80 columns</p>\n",
       "</div>"
      ],
      "text/plain": [
       "   MSSubClass MSZoning  LotFrontage  LotArea Street Alley LotShape  \\\n",
       "0          60       RL         65.0     8450   Pave   NaN      Reg   \n",
       "1          20       RL         80.0     9600   Pave   NaN      Reg   \n",
       "2          60       RL         68.0    11250   Pave   NaN      IR1   \n",
       "3          70       RL         60.0     9550   Pave   NaN      IR1   \n",
       "4          60       RL         84.0    14260   Pave   NaN      IR1   \n",
       "\n",
       "  LandContour Utilities LotConfig    ...     PoolArea PoolQC Fence  \\\n",
       "0         Lvl    AllPub    Inside    ...            0    NaN   NaN   \n",
       "1         Lvl    AllPub       FR2    ...            0    NaN   NaN   \n",
       "2         Lvl    AllPub    Inside    ...            0    NaN   NaN   \n",
       "3         Lvl    AllPub    Corner    ...            0    NaN   NaN   \n",
       "4         Lvl    AllPub       FR2    ...            0    NaN   NaN   \n",
       "\n",
       "  MiscFeature MiscVal MoSold  YrSold  SaleType  SaleCondition  SalePrice  \n",
       "0         NaN       0      2    2008        WD         Normal     208500  \n",
       "1         NaN       0      5    2007        WD         Normal     181500  \n",
       "2         NaN       0      9    2008        WD         Normal     223500  \n",
       "3         NaN       0      2    2006        WD        Abnorml     140000  \n",
       "4         NaN       0     12    2008        WD         Normal     250000  \n",
       "\n",
       "[5 rows x 80 columns]"
      ]
     },
     "execution_count": 5,
     "metadata": {},
     "output_type": "execute_result"
    }
   ],
   "source": [
    "train_df.drop('Id', axis=1, inplace=True)\n",
    "train_df.head()"
   ]
  },
  {
   "cell_type": "markdown",
   "metadata": {},
   "source": [
    "### **MISSING VALUES**"
   ]
  },
  {
   "cell_type": "markdown",
   "metadata": {},
   "source": [
    "Let's take a look at how many missing values we have."
   ]
  },
  {
   "cell_type": "code",
   "execution_count": 6,
   "metadata": {},
   "outputs": [
    {
     "data": {
      "text/plain": [
       "Text(0.5, 1.0, 'Visualizing null values per column')"
      ]
     },
     "execution_count": 6,
     "metadata": {},
     "output_type": "execute_result"
    },
    {
     "data": {
      "image/png": "[encoded data removed]",
      "text/plain": [
       "<Figure size 1296x576 with 1 Axes>"
      ]
     },
     "metadata": {
      "needs_background": "light"
     },
     "output_type": "display_data"
    }
   ],
   "source": [
    "plt.figure(figsize=(18,8))\n",
    "sns.heatmap(train_df.isnull(),cbar=False,cmap='viridis',yticklabels=False)\n",
    "plt.title('Visualizing null values per column')"
   ]
  },
  {
   "cell_type": "markdown",
   "metadata": {},
   "source": [
    "As this figure is hard to interpret, let's make a new dataframe of missing values per column"
   ]
  },
  {
   "cell_type": "code",
   "execution_count": 7,
   "metadata": {},
   "outputs": [
    {
     "data": {
      "text/html": [
       "<div>\n",
       "<style scoped>\n",
       "    .dataframe tbody tr th:only-of-type {\n",
       "        vertical-align: middle;\n",
       "    }\n",
       "\n",
       "    .dataframe tbody tr th {\n",
       "        vertical-align: top;\n",
       "    }\n",
       "\n",
       "    .dataframe thead th {\n",
       "        text-align: right;\n",
       "    }\n",
       "</style>\n",
       "<table border=\"1\" class=\"dataframe\">\n",
       "  <thead>\n",
       "    <tr style=\"text-align: right;\">\n",
       "      <th></th>\n",
       "      <th>column_name</th>\n",
       "      <th>missing_values_count</th>\n",
       "      <th>percentage</th>\n",
       "    </tr>\n",
       "  </thead>\n",
       "  <tbody>\n",
       "    <tr>\n",
       "      <th>71</th>\n",
       "      <td>PoolQC</td>\n",
       "      <td>1453</td>\n",
       "      <td>99.520548</td>\n",
       "    </tr>\n",
       "    <tr>\n",
       "      <th>73</th>\n",
       "      <td>MiscFeature</td>\n",
       "      <td>1406</td>\n",
       "      <td>96.301370</td>\n",
       "    </tr>\n",
       "    <tr>\n",
       "      <th>5</th>\n",
       "      <td>Alley</td>\n",
       "      <td>1369</td>\n",
       "      <td>93.767123</td>\n",
       "    </tr>\n",
       "    <tr>\n",
       "      <th>72</th>\n",
       "      <td>Fence</td>\n",
       "      <td>1179</td>\n",
       "      <td>80.753425</td>\n",
       "    </tr>\n",
       "    <tr>\n",
       "      <th>56</th>\n",
       "      <td>FireplaceQu</td>\n",
       "      <td>690</td>\n",
       "      <td>47.260274</td>\n",
       "    </tr>\n",
       "    <tr>\n",
       "      <th>2</th>\n",
       "      <td>LotFrontage</td>\n",
       "      <td>259</td>\n",
       "      <td>17.739726</td>\n",
       "    </tr>\n",
       "    <tr>\n",
       "      <th>57</th>\n",
       "      <td>GarageType</td>\n",
       "      <td>81</td>\n",
       "      <td>5.547945</td>\n",
       "    </tr>\n",
       "    <tr>\n",
       "      <th>58</th>\n",
       "      <td>GarageYrBlt</td>\n",
       "      <td>81</td>\n",
       "      <td>5.547945</td>\n",
       "    </tr>\n",
       "    <tr>\n",
       "      <th>59</th>\n",
       "      <td>GarageFinish</td>\n",
       "      <td>81</td>\n",
       "      <td>5.547945</td>\n",
       "    </tr>\n",
       "    <tr>\n",
       "      <th>62</th>\n",
       "      <td>GarageQual</td>\n",
       "      <td>81</td>\n",
       "      <td>5.547945</td>\n",
       "    </tr>\n",
       "    <tr>\n",
       "      <th>63</th>\n",
       "      <td>GarageCond</td>\n",
       "      <td>81</td>\n",
       "      <td>5.547945</td>\n",
       "    </tr>\n",
       "    <tr>\n",
       "      <th>31</th>\n",
       "      <td>BsmtExposure</td>\n",
       "      <td>38</td>\n",
       "      <td>2.602740</td>\n",
       "    </tr>\n",
       "    <tr>\n",
       "      <th>34</th>\n",
       "      <td>BsmtFinType2</td>\n",
       "      <td>38</td>\n",
       "      <td>2.602740</td>\n",
       "    </tr>\n",
       "    <tr>\n",
       "      <th>32</th>\n",
       "      <td>BsmtFinType1</td>\n",
       "      <td>37</td>\n",
       "      <td>2.534247</td>\n",
       "    </tr>\n",
       "    <tr>\n",
       "      <th>30</th>\n",
       "      <td>BsmtCond</td>\n",
       "      <td>37</td>\n",
       "      <td>2.534247</td>\n",
       "    </tr>\n",
       "    <tr>\n",
       "      <th>29</th>\n",
       "      <td>BsmtQual</td>\n",
       "      <td>37</td>\n",
       "      <td>2.534247</td>\n",
       "    </tr>\n",
       "    <tr>\n",
       "      <th>25</th>\n",
       "      <td>MasVnrArea</td>\n",
       "      <td>8</td>\n",
       "      <td>0.547945</td>\n",
       "    </tr>\n",
       "    <tr>\n",
       "      <th>24</th>\n",
       "      <td>MasVnrType</td>\n",
       "      <td>8</td>\n",
       "      <td>0.547945</td>\n",
       "    </tr>\n",
       "    <tr>\n",
       "      <th>41</th>\n",
       "      <td>Electrical</td>\n",
       "      <td>1</td>\n",
       "      <td>0.068493</td>\n",
       "    </tr>\n",
       "  </tbody>\n",
       "</table>\n",
       "</div>"
      ],
      "text/plain": [
       "     column_name  missing_values_count  percentage\n",
       "71        PoolQC                  1453   99.520548\n",
       "73   MiscFeature                  1406   96.301370\n",
       "5          Alley                  1369   93.767123\n",
       "72         Fence                  1179   80.753425\n",
       "56   FireplaceQu                   690   47.260274\n",
       "2    LotFrontage                   259   17.739726\n",
       "57    GarageType                    81    5.547945\n",
       "58   GarageYrBlt                    81    5.547945\n",
       "59  GarageFinish                    81    5.547945\n",
       "62    GarageQual                    81    5.547945\n",
       "63    GarageCond                    81    5.547945\n",
       "31  BsmtExposure                    38    2.602740\n",
       "34  BsmtFinType2                    38    2.602740\n",
       "32  BsmtFinType1                    37    2.534247\n",
       "30      BsmtCond                    37    2.534247\n",
       "29      BsmtQual                    37    2.534247\n",
       "25    MasVnrArea                     8    0.547945\n",
       "24    MasVnrType                     8    0.547945\n",
       "41    Electrical                     1    0.068493"
      ]
     },
     "execution_count": 7,
     "metadata": {},
     "output_type": "execute_result"
    }
   ],
   "source": [
    "missing_df = train_df.isnull().sum(axis=0).reset_index()\n",
    "missing_df.columns = ['column_name', 'missing_values_count']\n",
    "missing_df = missing_df.loc[missing_df['missing_values_count'] > 0]\n",
    "missing_df['percentage'] = 100 * (missing_df['missing_values_count']/len(train_df))\n",
    "missing_df = missing_df.sort_values(by='missing_values_count', ascending=False)\n",
    "missing_df"
   ]
  },
  {
   "cell_type": "markdown",
   "metadata": {},
   "source": [
    "Now let's plot the missing values dataframe to make it easier to interpret."
   ]
  },
  {
   "cell_type": "code",
   "execution_count": 8,
   "metadata": {},
   "outputs": [
    {
     "data": {
      "text/plain": [
       "Text(0, 0.5, 'Columns with missing values')"
      ]
     },
     "execution_count": 8,
     "metadata": {},
     "output_type": "execute_result"
    },
    {
     "data": {
      "image/png": "[encoded data removed]",
      "text/plain": [
       "<Figure size 1080x576 with 1 Axes>"
      ]
     },
     "metadata": {
      "needs_background": "light"
     },
     "output_type": "display_data"
    }
   ],
   "source": [
    "plt.figure(figsize=(15,8))\n",
    "plt.barh(missing_df.column_name, missing_df.percentage)\n",
    "plt.title('% of missing values for each column')\n",
    "plt.xlabel('% of missing values')\n",
    "plt.ylabel('Columns with missing values')"
   ]
  },
  {
   "cell_type": "markdown",
   "metadata": {},
   "source": [
    "**Findings:**\n",
    "- Hardly any missing values for Electrical, MasVnrType and MasVnrArea\n",
    "- Acceptable amount of null values for BmstQual, BmstCond, BmstFinType1, BmstExposure, BmstFinType2, GarageCond, GarageQual, GarageFinish, GarageType, GarageYrBlt.\n",
    "- As for LotFrontage, the amount of number of missing values is quite important.\n",
    "- Large amount of missing values for FireplaceQu, Fence, Alley, MiscFeature and PoolQC.\n",
    "\n",
    "Let's try and take care of the missing values one variable at a time.\n",
    "\n",
    "We already know from the description of the data that the null values for:\n",
    "- BsmtQual, BsmtCond, BsmtFinType1, BsmtFinType2 and BsmtExposure indicate that there is no basement.\n",
    "- GarageType, GarageFinish, GarageQual and GarageCond indicate that there is no garage.\n",
    "- GarageYrBlt: might be an error in recording. Either there is no garage or the values were not properly recorded.\n",
    "- FireplaceQu indicate that there is no fireplace.\n",
    "- Fence indicate that there is no fence.\n",
    "- Alley indicate that there is no alley.\n",
    "- MiscFeature indicate that there are no miscellaneous features not covered in other categories.\n",
    "- PoolQC indicate that there is no pool.\n",
    "\n",
    "We will use the following strategy to handle missing values:\n",
    "- If the percentage of missing data is below 5% and that the values are indeed missing, we will drop the observations with missing data. Otherwise we will modify the null values to remove them from the missing_df.\n",
    "- If the percentage of missing data is above 60% **and** the variable isn't significant then that latter will be dropped, otherwise we will proceed with imputation to fill in missing data points.\n",
    "\n",
    "First let's modify the null values that aren't actually missing and replace them all with \"None\".\n",
    "\n",
    "**BsmtQual - BsmtCond - BsmtFinType1 - BsmtFinType2 - BsmtExposure - FireplaceQu - Fence - Alley - MiscFeature - PoolQC**"
   ]
  },
  {
   "cell_type": "code",
   "execution_count": 9,
   "metadata": {},
   "outputs": [],
   "source": [
    "train_df[['BsmtQual', 'BsmtCond', 'BsmtFinType1',\n",
    "          'BsmtFinType2', 'BsmtExposure',\n",
    "         'FireplaceQu', 'Fence', 'Alley',\n",
    "          'MiscFeature', 'PoolQC']] = train_df[['BsmtQual', 'BsmtCond', \n",
    "                                                'BsmtFinType1', 'BsmtFinType2', \n",
    "                                                'BsmtExposure',\n",
    "                                               'FireplaceQu', 'Fence', 'Alley',\n",
    "                                                'MiscFeature', 'PoolQC']].fillna('None')"
   ]
  },
  {
   "cell_type": "markdown",
   "metadata": {},
   "source": [
    "**GarageType - GarageFinish - GarageQual - GarageCond**\n",
    "\n",
    "Given no information was provided about the possible null values in GarageYrBlt column (year the garage was built), we have to make sure that the indexes of those missing data points match the rest of the null values for every garage related feature, since if there is no garage all related features should be null."
   ]
  },
  {
   "cell_type": "code",
   "execution_count": 10,
   "metadata": {},
   "outputs": [
    {
     "data": {
      "text/plain": [
       "array([ True])"
      ]
     },
     "execution_count": 10,
     "metadata": {},
     "output_type": "execute_result"
    }
   ],
   "source": [
    "np.unique(train_df.loc[train_df.GarageFinish.isnull() \n",
    "            | train_df.GarageType.isnull() | train_df.GarageQual.isnull() | train_df.GarageCond.isnull()].index == train_df.loc[train_df.GarageYrBlt.isnull()].index)"
   ]
  },
  {
   "cell_type": "markdown",
   "metadata": {},
   "source": [
    "All indexes match. Therefore there are no misrecorded values for the garage related columns. We will replace all null values with \"No Garage\"."
   ]
  },
  {
   "cell_type": "code",
   "execution_count": 11,
   "metadata": {},
   "outputs": [],
   "source": [
    "train_df[['GarageType', 'GarageFinish',\n",
    "          'GarageQual', 'GarageCond', 'GarageYrBlt']] = train_df[['GarageType', 'GarageFinish',\n",
    "                                                                  'GarageQual', 'GarageCond',\n",
    "                                                                  'GarageYrBlt']].fillna('None')"
   ]
  },
  {
   "cell_type": "markdown",
   "metadata": {},
   "source": [
    "We can now recompute missing_df to update the missing data."
   ]
  },
  {
   "cell_type": "code",
   "execution_count": 12,
   "metadata": {},
   "outputs": [
    {
     "data": {
      "text/html": [
       "<div>\n",
       "<style scoped>\n",
       "    .dataframe tbody tr th:only-of-type {\n",
       "        vertical-align: middle;\n",
       "    }\n",
       "\n",
       "    .dataframe tbody tr th {\n",
       "        vertical-align: top;\n",
       "    }\n",
       "\n",
       "    .dataframe thead th {\n",
       "        text-align: right;\n",
       "    }\n",
       "</style>\n",
       "<table border=\"1\" class=\"dataframe\">\n",
       "  <thead>\n",
       "    <tr style=\"text-align: right;\">\n",
       "      <th></th>\n",
       "      <th>column_name</th>\n",
       "      <th>missing_values_count</th>\n",
       "      <th>percentage</th>\n",
       "    </tr>\n",
       "  </thead>\n",
       "  <tbody>\n",
       "    <tr>\n",
       "      <th>2</th>\n",
       "      <td>LotFrontage</td>\n",
       "      <td>259</td>\n",
       "      <td>17.739726</td>\n",
       "    </tr>\n",
       "    <tr>\n",
       "      <th>24</th>\n",
       "      <td>MasVnrType</td>\n",
       "      <td>8</td>\n",
       "      <td>0.547945</td>\n",
       "    </tr>\n",
       "    <tr>\n",
       "      <th>25</th>\n",
       "      <td>MasVnrArea</td>\n",
       "      <td>8</td>\n",
       "      <td>0.547945</td>\n",
       "    </tr>\n",
       "    <tr>\n",
       "      <th>41</th>\n",
       "      <td>Electrical</td>\n",
       "      <td>1</td>\n",
       "      <td>0.068493</td>\n",
       "    </tr>\n",
       "  </tbody>\n",
       "</table>\n",
       "</div>"
      ],
      "text/plain": [
       "    column_name  missing_values_count  percentage\n",
       "2   LotFrontage                   259   17.739726\n",
       "24   MasVnrType                     8    0.547945\n",
       "25   MasVnrArea                     8    0.547945\n",
       "41   Electrical                     1    0.068493"
      ]
     },
     "execution_count": 12,
     "metadata": {},
     "output_type": "execute_result"
    }
   ],
   "source": [
    "missing_df = train_df.isnull().sum(axis=0).reset_index()\n",
    "missing_df.columns = ['column_name', 'missing_values_count']\n",
    "missing_df = missing_df.loc[missing_df['missing_values_count'] > 0]\n",
    "missing_df['percentage'] = 100 * (missing_df['missing_values_count']/len(train_df))\n",
    "missing_df = missing_df.sort_values(by='missing_values_count', ascending=False)\n",
    "missing_df"
   ]
  },
  {
   "cell_type": "markdown",
   "metadata": {},
   "source": [
    "Following the aforementioned strategy, we now must delete missing data points from MasVnrType, MasVnrArea and Electrical."
   ]
  },
  {
   "cell_type": "code",
   "execution_count": 13,
   "metadata": {},
   "outputs": [],
   "source": [
    "train_df.dropna(subset=['MasVnrType', 'MasVnrArea', 'Electrical'], inplace=True)"
   ]
  },
  {
   "cell_type": "markdown",
   "metadata": {},
   "source": [
    "And since the percentage of missing values for LotFrontage is greater than 5% and smaller than 60%, we must perform an imputation.\n",
    "\n",
    "To fill in the missing values, we will use the **K Nearest Neighbors** method provided in the fancyimpute library"
   ]
  },
  {
   "cell_type": "code",
   "execution_count": 14,
   "metadata": {},
   "outputs": [
    {
     "data": {
      "text/html": [
       "<div>\n",
       "<style scoped>\n",
       "    .dataframe tbody tr th:only-of-type {\n",
       "        vertical-align: middle;\n",
       "    }\n",
       "\n",
       "    .dataframe tbody tr th {\n",
       "        vertical-align: top;\n",
       "    }\n",
       "\n",
       "    .dataframe thead th {\n",
       "        text-align: right;\n",
       "    }\n",
       "</style>\n",
       "<table border=\"1\" class=\"dataframe\">\n",
       "  <thead>\n",
       "    <tr style=\"text-align: right;\">\n",
       "      <th></th>\n",
       "      <th>MSSubClass</th>\n",
       "      <th>LotFrontage</th>\n",
       "      <th>LotArea</th>\n",
       "      <th>OverallQual</th>\n",
       "      <th>OverallCond</th>\n",
       "      <th>YearBuilt</th>\n",
       "      <th>YearRemodAdd</th>\n",
       "      <th>MasVnrArea</th>\n",
       "      <th>BsmtFinSF1</th>\n",
       "      <th>BsmtFinSF2</th>\n",
       "      <th>...</th>\n",
       "      <th>WoodDeckSF</th>\n",
       "      <th>OpenPorchSF</th>\n",
       "      <th>EnclosedPorch</th>\n",
       "      <th>3SsnPorch</th>\n",
       "      <th>ScreenPorch</th>\n",
       "      <th>PoolArea</th>\n",
       "      <th>MiscVal</th>\n",
       "      <th>MoSold</th>\n",
       "      <th>YrSold</th>\n",
       "      <th>SalePrice</th>\n",
       "    </tr>\n",
       "  </thead>\n",
       "  <tbody>\n",
       "    <tr>\n",
       "      <th>0</th>\n",
       "      <td>60</td>\n",
       "      <td>65.0</td>\n",
       "      <td>8450</td>\n",
       "      <td>7</td>\n",
       "      <td>5</td>\n",
       "      <td>2003</td>\n",
       "      <td>2003</td>\n",
       "      <td>196.0</td>\n",
       "      <td>706</td>\n",
       "      <td>0</td>\n",
       "      <td>...</td>\n",
       "      <td>0</td>\n",
       "      <td>61</td>\n",
       "      <td>0</td>\n",
       "      <td>0</td>\n",
       "      <td>0</td>\n",
       "      <td>0</td>\n",
       "      <td>0</td>\n",
       "      <td>2</td>\n",
       "      <td>2008</td>\n",
       "      <td>208500</td>\n",
       "    </tr>\n",
       "    <tr>\n",
       "      <th>1</th>\n",
       "      <td>20</td>\n",
       "      <td>80.0</td>\n",
       "      <td>9600</td>\n",
       "      <td>6</td>\n",
       "      <td>8</td>\n",
       "      <td>1976</td>\n",
       "      <td>1976</td>\n",
       "      <td>0.0</td>\n",
       "      <td>978</td>\n",
       "      <td>0</td>\n",
       "      <td>...</td>\n",
       "      <td>298</td>\n",
       "      <td>0</td>\n",
       "      <td>0</td>\n",
       "      <td>0</td>\n",
       "      <td>0</td>\n",
       "      <td>0</td>\n",
       "      <td>0</td>\n",
       "      <td>5</td>\n",
       "      <td>2007</td>\n",
       "      <td>181500</td>\n",
       "    </tr>\n",
       "    <tr>\n",
       "      <th>2</th>\n",
       "      <td>60</td>\n",
       "      <td>68.0</td>\n",
       "      <td>11250</td>\n",
       "      <td>7</td>\n",
       "      <td>5</td>\n",
       "      <td>2001</td>\n",
       "      <td>2002</td>\n",
       "      <td>162.0</td>\n",
       "      <td>486</td>\n",
       "      <td>0</td>\n",
       "      <td>...</td>\n",
       "      <td>0</td>\n",
       "      <td>42</td>\n",
       "      <td>0</td>\n",
       "      <td>0</td>\n",
       "      <td>0</td>\n",
       "      <td>0</td>\n",
       "      <td>0</td>\n",
       "      <td>9</td>\n",
       "      <td>2008</td>\n",
       "      <td>223500</td>\n",
       "    </tr>\n",
       "    <tr>\n",
       "      <th>3</th>\n",
       "      <td>70</td>\n",
       "      <td>60.0</td>\n",
       "      <td>9550</td>\n",
       "      <td>7</td>\n",
       "      <td>5</td>\n",
       "      <td>1915</td>\n",
       "      <td>1970</td>\n",
       "      <td>0.0</td>\n",
       "      <td>216</td>\n",
       "      <td>0</td>\n",
       "      <td>...</td>\n",
       "      <td>0</td>\n",
       "      <td>35</td>\n",
       "      <td>272</td>\n",
       "      <td>0</td>\n",
       "      <td>0</td>\n",
       "      <td>0</td>\n",
       "      <td>0</td>\n",
       "      <td>2</td>\n",
       "      <td>2006</td>\n",
       "      <td>140000</td>\n",
       "    </tr>\n",
       "    <tr>\n",
       "      <th>4</th>\n",
       "      <td>60</td>\n",
       "      <td>84.0</td>\n",
       "      <td>14260</td>\n",
       "      <td>8</td>\n",
       "      <td>5</td>\n",
       "      <td>2000</td>\n",
       "      <td>2000</td>\n",
       "      <td>350.0</td>\n",
       "      <td>655</td>\n",
       "      <td>0</td>\n",
       "      <td>...</td>\n",
       "      <td>192</td>\n",
       "      <td>84</td>\n",
       "      <td>0</td>\n",
       "      <td>0</td>\n",
       "      <td>0</td>\n",
       "      <td>0</td>\n",
       "      <td>0</td>\n",
       "      <td>12</td>\n",
       "      <td>2008</td>\n",
       "      <td>250000</td>\n",
       "    </tr>\n",
       "  </tbody>\n",
       "</table>\n",
       "<p>5 rows × 36 columns</p>\n",
       "</div>"
      ],
      "text/plain": [
       "   MSSubClass  LotFrontage  LotArea  OverallQual  OverallCond  YearBuilt  \\\n",
       "0          60         65.0     8450            7            5       2003   \n",
       "1          20         80.0     9600            6            8       1976   \n",
       "2          60         68.0    11250            7            5       2001   \n",
       "3          70         60.0     9550            7            5       1915   \n",
       "4          60         84.0    14260            8            5       2000   \n",
       "\n",
       "   YearRemodAdd  MasVnrArea  BsmtFinSF1  BsmtFinSF2    ...      WoodDeckSF  \\\n",
       "0          2003       196.0         706           0    ...               0   \n",
       "1          1976         0.0         978           0    ...             298   \n",
       "2          2002       162.0         486           0    ...               0   \n",
       "3          1970         0.0         216           0    ...               0   \n",
       "4          2000       350.0         655           0    ...             192   \n",
       "\n",
       "   OpenPorchSF  EnclosedPorch  3SsnPorch  ScreenPorch  PoolArea  MiscVal  \\\n",
       "0           61              0          0            0         0        0   \n",
       "1            0              0          0            0         0        0   \n",
       "2           42              0          0            0         0        0   \n",
       "3           35            272          0            0         0        0   \n",
       "4           84              0          0            0         0        0   \n",
       "\n",
       "   MoSold  YrSold  SalePrice  \n",
       "0       2    2008     208500  \n",
       "1       5    2007     181500  \n",
       "2       9    2008     223500  \n",
       "3       2    2006     140000  \n",
       "4      12    2008     250000  \n",
       "\n",
       "[5 rows x 36 columns]"
      ]
     },
     "execution_count": 14,
     "metadata": {},
     "output_type": "execute_result"
    }
   ],
   "source": [
    "# making a dataframe with only numerical variables to use in the imputation process\n",
    "numeric_train_df = train_df.select_dtypes(include=['number'])\n",
    "numeric_train_df.head()"
   ]
  },
  {
   "cell_type": "code",
   "execution_count": 15,
   "metadata": {},
   "outputs": [
    {
     "name": "stdout",
     "output_type": "stream",
     "text": [
      "Imputing row 1/1451 with 0 missing, elapsed time: 0.864\n",
      "Imputing row 101/1451 with 1 missing, elapsed time: 0.867\n",
      "Imputing row 201/1451 with 0 missing, elapsed time: 0.870\n",
      "Imputing row 301/1451 with 0 missing, elapsed time: 0.872\n",
      "Imputing row 401/1451 with 0 missing, elapsed time: 0.874\n",
      "Imputing row 501/1451 with 0 missing, elapsed time: 0.876\n",
      "Imputing row 601/1451 with 0 missing, elapsed time: 0.878\n",
      "Imputing row 701/1451 with 0 missing, elapsed time: 0.880\n",
      "Imputing row 801/1451 with 0 missing, elapsed time: 0.882\n",
      "Imputing row 901/1451 with 0 missing, elapsed time: 0.884\n",
      "Imputing row 1001/1451 with 1 missing, elapsed time: 0.886\n",
      "Imputing row 1101/1451 with 0 missing, elapsed time: 0.888\n",
      "Imputing row 1201/1451 with 1 missing, elapsed time: 0.890\n",
      "Imputing row 1301/1451 with 0 missing, elapsed time: 0.892\n",
      "Imputing row 1401/1451 with 0 missing, elapsed time: 0.894\n"
     ]
    }
   ],
   "source": [
    "# we will use k = square root of the length of the dataframe.\n",
    "k = int(np.sqrt(len(numeric_train_df)))\n",
    "\n",
    "# making a new dataframe with the imputed values\n",
    "numeric_train_df_completed = pd.DataFrame(data=KNN(k).fit_transform(numeric_train_df), columns=numeric_train_df.columns, index=numeric_train_df.index)"
   ]
  },
  {
   "cell_type": "markdown",
   "metadata": {},
   "source": [
    "We can now fill in the missing values in LotFrontage"
   ]
  },
  {
   "cell_type": "code",
   "execution_count": 16,
   "metadata": {},
   "outputs": [],
   "source": [
    "train_df['LotFrontage'] = numeric_train_df_completed['LotFrontage']"
   ]
  },
  {
   "cell_type": "code",
   "execution_count": 17,
   "metadata": {},
   "outputs": [
    {
     "data": {
      "text/plain": [
       "False"
      ]
     },
     "execution_count": 17,
     "metadata": {},
     "output_type": "execute_result"
    }
   ],
   "source": [
    "# make sure no missing values were left out\n",
    "train_df.isnull().values.any()"
   ]
  },
  {
   "cell_type": "markdown",
   "metadata": {},
   "source": [
    "# **EXPLORATORY ANALYSIS**\n",
    "The end goal of this project is to build a model that can accurately predict the price of a house based on some features. \n",
    "\n",
    "Therefore this analysis will focus on determining which characteristics have an influence on the price.\n",
    "\n",
    "### **UNIVARIATE ANALYSIS**\n",
    "To begin the EDA, we will focus on a single variable, the SalePrice, because this is the target for our machine learning model(s)."
   ]
  },
  {
   "cell_type": "code",
   "execution_count": 18,
   "metadata": {},
   "outputs": [
    {
     "data": {
      "text/plain": [
       "count      1451.000000\n",
       "mean     180624.101999\n",
       "std       79312.128273\n",
       "min       34900.000000\n",
       "25%      129900.000000\n",
       "50%      162500.000000\n",
       "75%      214000.000000\n",
       "max      755000.000000\n",
       "Name: SalePrice, dtype: float64"
      ]
     },
     "execution_count": 18,
     "metadata": {},
     "output_type": "execute_result"
    }
   ],
   "source": [
    "train_df.SalePrice.describe()"
   ]
  },
  {
   "cell_type": "markdown",
   "metadata": {},
   "source": [
    "The values cluster around 180624 with a standard deviation of approximately 79312.\n",
    "\n",
    "We notice that the maximum value for this variable is 755000, which is much greater than the 75th percentile so there might be a few outliers in the distribution."
   ]
  },
  {
   "cell_type": "markdown",
   "metadata": {},
   "source": [
    "Let's take a look at the distribution of the values"
   ]
  },
  {
   "cell_type": "code",
   "execution_count": 19,
   "metadata": {},
   "outputs": [
    {
     "data": {
      "text/plain": [
       "<matplotlib.axes._subplots.AxesSubplot at 0x1a36f60080>"
      ]
     },
     "execution_count": 19,
     "metadata": {},
     "output_type": "execute_result"
    },
    {
     "data": {
      "image/png": "[encoded data removed]",
      "text/plain": [
       "<Figure size 432x288 with 1 Axes>"
      ]
     },
     "metadata": {
      "needs_background": "light"
     },
     "output_type": "display_data"
    }
   ],
   "source": [
    "sns.distplot(train_df['SalePrice'], bins=150, kde=False)"
   ]
  },
  {
   "cell_type": "markdown",
   "metadata": {},
   "source": [
    "Based off this plot alone, we could assume that the dsitribution of the values is asymmetrically normal, with a tail that extends father to the right."
   ]
  },
  {
   "cell_type": "markdown",
   "metadata": {},
   "source": [
    "Let's plot the empirical CDF (ECDF) to get a better look at the distribution"
   ]
  },
  {
   "cell_type": "code",
   "execution_count": 20,
   "metadata": {},
   "outputs": [],
   "source": [
    "#Function to generate the CDF\n",
    "def generateCDF(sample):\n",
    "    x = np.sort(sample)\n",
    "    y = np.linspace(0, 1, len(sample))\n",
    "    return x,y"
   ]
  },
  {
   "cell_type": "code",
   "execution_count": 21,
   "metadata": {},
   "outputs": [
    {
     "data": {
      "image/png": "[encoded data removed]",
      "text/plain": [
       "<Figure size 432x288 with 1 Axes>"
      ]
     },
     "metadata": {
      "needs_background": "light"
     },
     "output_type": "display_data"
    }
   ],
   "source": [
    "x, y = generateCDF(train_df['SalePrice'])\n",
    "\n",
    "plt.plot(x, y, marker='.', linestyle='')\n",
    "plt.xlabel('SalePrice')\n",
    "plt.ylabel('ECDF')\n",
    "\n",
    "#margins to keep the data off the plot edges.\n",
    "plt.margins(0.01)"
   ]
  },
  {
   "cell_type": "markdown",
   "metadata": {},
   "source": [
    "Is a Normal distribution a good model for the SalePrice?\n",
    "\n",
    "To find out we can generate a Normal Probability Plot with the following steps:\n",
    "- First we generate random sample from a Standard Normal Distribution with the same parameters (mean and  standard deviation)\n",
    "- Then we generate its CDF and plot the two CDFs for comparison."
   ]
  },
  {
   "cell_type": "code",
   "execution_count": 22,
   "metadata": {},
   "outputs": [],
   "source": [
    "#parameters to be passed to the standard normal distribution\n",
    "mean = train_df['SalePrice'].mean()\n",
    "std = train_df['SalePrice'].std()\n",
    "size = len(train_df)\n",
    "\n",
    "#using the rvs (random variates) method from the normal distribution we generate a sample with the same parameters.\n",
    "sample = list(norm(loc=mean, scale=std).rvs(size=size))\n",
    "xs, ys = generateCDF(sample)"
   ]
  },
  {
   "cell_type": "code",
   "execution_count": 23,
   "metadata": {},
   "outputs": [
    {
     "data": {
      "image/png": "[encoded data removed]",
      "text/plain": [
       "<Figure size 432x288 with 1 Axes>"
      ]
     },
     "metadata": {
      "needs_background": "light"
     },
     "output_type": "display_data"
    }
   ],
   "source": [
    "plt.plot(x, y, marker='.', linestyle='', label='actual')\n",
    "plt.plot(xs, ys, marker='.', linestyle='', label='model')\n",
    "plt.xlabel('SalePrice')\n",
    "plt.ylabel('CDFs')\n",
    "plt.legend()\n",
    "plt.margins(0.01)"
   ]
  },
  {
   "cell_type": "markdown",
   "metadata": {},
   "source": [
    "A Normal distribution isn't the best model for the data since it doesn't fit very well.\n",
    "\n",
    "This leads to one question: Do the logarithms of the SalePrice values have a Normal distribution?\n",
    "\n",
    "To investigate, we can simply use the same process as above but this time compute the logarithmic values."
   ]
  },
  {
   "cell_type": "code",
   "execution_count": 24,
   "metadata": {},
   "outputs": [],
   "source": [
    "log_prices = np.log(train_df['SalePrice'])\n",
    "x, y = generateCDF(log_prices)\n",
    "\n",
    "#parameters to be passed to the standard normal distribution\n",
    "mean = log_prices.mean()\n",
    "std = log_prices.std()\n",
    "size = len(train_df)\n",
    "\n",
    "#using the rvs (random variates) method from the normal distribution we generate a sample with the same parameters.\n",
    "sample = list(norm(loc=mean, scale=std).rvs(size=size))\n",
    "xs, ys = generateCDF(sample)"
   ]
  },
  {
   "cell_type": "code",
   "execution_count": 25,
   "metadata": {},
   "outputs": [
    {
     "data": {
      "text/plain": [
       "<matplotlib.legend.Legend at 0x1a35bc2ef0>"
      ]
     },
     "execution_count": 25,
     "metadata": {},
     "output_type": "execute_result"
    },
    {
     "data": {
      "image/png": "[encoded data removed]",
      "text/plain": [
       "<Figure size 432x288 with 1 Axes>"
      ]
     },
     "metadata": {
      "needs_background": "light"
     },
     "output_type": "display_data"
    }
   ],
   "source": [
    "plt.plot(x, y, marker='.', linestyle='', label='actual')\n",
    "plt.plot(xs, ys, marker='.', linestyle='', label='model')\n",
    "plt.xlabel('SalePrice(log-scale)')\n",
    "plt.ylabel('ECDF')\n",
    "#margins to keep the data off the plot edges.\n",
    "plt.margins(0.01)\n",
    "plt.legend()"
   ]
  },
  {
   "cell_type": "markdown",
   "metadata": {},
   "source": [
    "We can see that this model fits the data better. So a Lognormal distribution might be a better fit than the variable."
   ]
  },
  {
   "cell_type": "markdown",
   "metadata": {},
   "source": [
    "As mentionned above there might be some outliers in the distribution of SalePrice.\n",
    "\n",
    "To visualize them we can use a boxplot and any value outside of the interquartile range will be considered as such."
   ]
  },
  {
   "cell_type": "code",
   "execution_count": 26,
   "metadata": {},
   "outputs": [
    {
     "data": {
      "text/plain": [
       "Text(0.5, 1.0, 'Visualizing outliers in SalePrice')"
      ]
     },
     "execution_count": 26,
     "metadata": {},
     "output_type": "execute_result"
    },
    {
     "data": {
      "image/png": "[encoded data removed]",
      "text/plain": [
       "<Figure size 432x288 with 1 Axes>"
      ]
     },
     "metadata": {
      "needs_background": "light"
     },
     "output_type": "display_data"
    }
   ],
   "source": [
    "sns.boxplot(train_df['SalePrice'])\n",
    "plt.title('Visualizing outliers in SalePrice')"
   ]
  },
  {
   "cell_type": "markdown",
   "metadata": {},
   "source": [
    "Outliers may reduce the performance of our future model(s), so it might be best to remove them.\n",
    "\n",
    "However, since they might be influential points, we will only be removing **extreme** outliers.\n",
    "\n",
    "That is values that lie more than 3 times the interquartile range below the first quartile or above the third quartile."
   ]
  },
  {
   "cell_type": "code",
   "execution_count": 27,
   "metadata": {},
   "outputs": [
    {
     "data": {
      "text/html": [
       "<div>\n",
       "<style scoped>\n",
       "    .dataframe tbody tr th:only-of-type {\n",
       "        vertical-align: middle;\n",
       "    }\n",
       "\n",
       "    .dataframe tbody tr th {\n",
       "        vertical-align: top;\n",
       "    }\n",
       "\n",
       "    .dataframe thead th {\n",
       "        text-align: right;\n",
       "    }\n",
       "</style>\n",
       "<table border=\"1\" class=\"dataframe\">\n",
       "  <thead>\n",
       "    <tr style=\"text-align: right;\">\n",
       "      <th></th>\n",
       "      <th>MSSubClass</th>\n",
       "      <th>MSZoning</th>\n",
       "      <th>LotFrontage</th>\n",
       "      <th>LotArea</th>\n",
       "      <th>Street</th>\n",
       "      <th>Alley</th>\n",
       "      <th>LotShape</th>\n",
       "      <th>LandContour</th>\n",
       "      <th>Utilities</th>\n",
       "      <th>LotConfig</th>\n",
       "      <th>...</th>\n",
       "      <th>PoolArea</th>\n",
       "      <th>PoolQC</th>\n",
       "      <th>Fence</th>\n",
       "      <th>MiscFeature</th>\n",
       "      <th>MiscVal</th>\n",
       "      <th>MoSold</th>\n",
       "      <th>YrSold</th>\n",
       "      <th>SaleType</th>\n",
       "      <th>SaleCondition</th>\n",
       "      <th>SalePrice</th>\n",
       "    </tr>\n",
       "  </thead>\n",
       "  <tbody>\n",
       "    <tr>\n",
       "      <th>178</th>\n",
       "      <td>20</td>\n",
       "      <td>RL</td>\n",
       "      <td>63.000000</td>\n",
       "      <td>17423</td>\n",
       "      <td>Pave</td>\n",
       "      <td>None</td>\n",
       "      <td>IR1</td>\n",
       "      <td>Lvl</td>\n",
       "      <td>AllPub</td>\n",
       "      <td>CulDSac</td>\n",
       "      <td>...</td>\n",
       "      <td>0</td>\n",
       "      <td>None</td>\n",
       "      <td>None</td>\n",
       "      <td>None</td>\n",
       "      <td>0</td>\n",
       "      <td>7</td>\n",
       "      <td>2009</td>\n",
       "      <td>New</td>\n",
       "      <td>Partial</td>\n",
       "      <td>501837</td>\n",
       "    </tr>\n",
       "    <tr>\n",
       "      <th>185</th>\n",
       "      <td>75</td>\n",
       "      <td>RM</td>\n",
       "      <td>90.000000</td>\n",
       "      <td>22950</td>\n",
       "      <td>Pave</td>\n",
       "      <td>None</td>\n",
       "      <td>IR2</td>\n",
       "      <td>Lvl</td>\n",
       "      <td>AllPub</td>\n",
       "      <td>Inside</td>\n",
       "      <td>...</td>\n",
       "      <td>0</td>\n",
       "      <td>None</td>\n",
       "      <td>GdPrv</td>\n",
       "      <td>None</td>\n",
       "      <td>0</td>\n",
       "      <td>6</td>\n",
       "      <td>2006</td>\n",
       "      <td>WD</td>\n",
       "      <td>Normal</td>\n",
       "      <td>475000</td>\n",
       "    </tr>\n",
       "    <tr>\n",
       "      <th>440</th>\n",
       "      <td>20</td>\n",
       "      <td>RL</td>\n",
       "      <td>105.000000</td>\n",
       "      <td>15431</td>\n",
       "      <td>Pave</td>\n",
       "      <td>None</td>\n",
       "      <td>Reg</td>\n",
       "      <td>Lvl</td>\n",
       "      <td>AllPub</td>\n",
       "      <td>Inside</td>\n",
       "      <td>...</td>\n",
       "      <td>0</td>\n",
       "      <td>None</td>\n",
       "      <td>None</td>\n",
       "      <td>None</td>\n",
       "      <td>0</td>\n",
       "      <td>4</td>\n",
       "      <td>2009</td>\n",
       "      <td>WD</td>\n",
       "      <td>Normal</td>\n",
       "      <td>555000</td>\n",
       "    </tr>\n",
       "    <tr>\n",
       "      <th>691</th>\n",
       "      <td>60</td>\n",
       "      <td>RL</td>\n",
       "      <td>104.000000</td>\n",
       "      <td>21535</td>\n",
       "      <td>Pave</td>\n",
       "      <td>None</td>\n",
       "      <td>IR1</td>\n",
       "      <td>Lvl</td>\n",
       "      <td>AllPub</td>\n",
       "      <td>Corner</td>\n",
       "      <td>...</td>\n",
       "      <td>0</td>\n",
       "      <td>None</td>\n",
       "      <td>None</td>\n",
       "      <td>None</td>\n",
       "      <td>0</td>\n",
       "      <td>1</td>\n",
       "      <td>2007</td>\n",
       "      <td>WD</td>\n",
       "      <td>Normal</td>\n",
       "      <td>755000</td>\n",
       "    </tr>\n",
       "    <tr>\n",
       "      <th>769</th>\n",
       "      <td>60</td>\n",
       "      <td>RL</td>\n",
       "      <td>47.000000</td>\n",
       "      <td>53504</td>\n",
       "      <td>Pave</td>\n",
       "      <td>None</td>\n",
       "      <td>IR2</td>\n",
       "      <td>HLS</td>\n",
       "      <td>AllPub</td>\n",
       "      <td>CulDSac</td>\n",
       "      <td>...</td>\n",
       "      <td>0</td>\n",
       "      <td>None</td>\n",
       "      <td>None</td>\n",
       "      <td>None</td>\n",
       "      <td>0</td>\n",
       "      <td>6</td>\n",
       "      <td>2010</td>\n",
       "      <td>WD</td>\n",
       "      <td>Normal</td>\n",
       "      <td>538000</td>\n",
       "    </tr>\n",
       "    <tr>\n",
       "      <th>798</th>\n",
       "      <td>60</td>\n",
       "      <td>RL</td>\n",
       "      <td>104.000000</td>\n",
       "      <td>13518</td>\n",
       "      <td>Pave</td>\n",
       "      <td>None</td>\n",
       "      <td>Reg</td>\n",
       "      <td>Lvl</td>\n",
       "      <td>AllPub</td>\n",
       "      <td>Inside</td>\n",
       "      <td>...</td>\n",
       "      <td>0</td>\n",
       "      <td>None</td>\n",
       "      <td>None</td>\n",
       "      <td>None</td>\n",
       "      <td>0</td>\n",
       "      <td>7</td>\n",
       "      <td>2009</td>\n",
       "      <td>New</td>\n",
       "      <td>Partial</td>\n",
       "      <td>485000</td>\n",
       "    </tr>\n",
       "    <tr>\n",
       "      <th>803</th>\n",
       "      <td>60</td>\n",
       "      <td>RL</td>\n",
       "      <td>107.000000</td>\n",
       "      <td>13891</td>\n",
       "      <td>Pave</td>\n",
       "      <td>None</td>\n",
       "      <td>Reg</td>\n",
       "      <td>Lvl</td>\n",
       "      <td>AllPub</td>\n",
       "      <td>Inside</td>\n",
       "      <td>...</td>\n",
       "      <td>0</td>\n",
       "      <td>None</td>\n",
       "      <td>None</td>\n",
       "      <td>None</td>\n",
       "      <td>0</td>\n",
       "      <td>1</td>\n",
       "      <td>2009</td>\n",
       "      <td>New</td>\n",
       "      <td>Partial</td>\n",
       "      <td>582933</td>\n",
       "    </tr>\n",
       "    <tr>\n",
       "      <th>898</th>\n",
       "      <td>20</td>\n",
       "      <td>RL</td>\n",
       "      <td>100.000000</td>\n",
       "      <td>12919</td>\n",
       "      <td>Pave</td>\n",
       "      <td>None</td>\n",
       "      <td>IR1</td>\n",
       "      <td>Lvl</td>\n",
       "      <td>AllPub</td>\n",
       "      <td>Inside</td>\n",
       "      <td>...</td>\n",
       "      <td>0</td>\n",
       "      <td>None</td>\n",
       "      <td>None</td>\n",
       "      <td>None</td>\n",
       "      <td>0</td>\n",
       "      <td>3</td>\n",
       "      <td>2010</td>\n",
       "      <td>New</td>\n",
       "      <td>Partial</td>\n",
       "      <td>611657</td>\n",
       "    </tr>\n",
       "    <tr>\n",
       "      <th>1046</th>\n",
       "      <td>60</td>\n",
       "      <td>RL</td>\n",
       "      <td>85.000000</td>\n",
       "      <td>16056</td>\n",
       "      <td>Pave</td>\n",
       "      <td>None</td>\n",
       "      <td>IR1</td>\n",
       "      <td>Lvl</td>\n",
       "      <td>AllPub</td>\n",
       "      <td>Inside</td>\n",
       "      <td>...</td>\n",
       "      <td>0</td>\n",
       "      <td>None</td>\n",
       "      <td>None</td>\n",
       "      <td>None</td>\n",
       "      <td>0</td>\n",
       "      <td>7</td>\n",
       "      <td>2006</td>\n",
       "      <td>New</td>\n",
       "      <td>Partial</td>\n",
       "      <td>556581</td>\n",
       "    </tr>\n",
       "    <tr>\n",
       "      <th>1169</th>\n",
       "      <td>60</td>\n",
       "      <td>RL</td>\n",
       "      <td>118.000000</td>\n",
       "      <td>35760</td>\n",
       "      <td>Pave</td>\n",
       "      <td>None</td>\n",
       "      <td>IR1</td>\n",
       "      <td>Lvl</td>\n",
       "      <td>AllPub</td>\n",
       "      <td>CulDSac</td>\n",
       "      <td>...</td>\n",
       "      <td>0</td>\n",
       "      <td>None</td>\n",
       "      <td>None</td>\n",
       "      <td>None</td>\n",
       "      <td>0</td>\n",
       "      <td>7</td>\n",
       "      <td>2006</td>\n",
       "      <td>WD</td>\n",
       "      <td>Normal</td>\n",
       "      <td>625000</td>\n",
       "    </tr>\n",
       "    <tr>\n",
       "      <th>1182</th>\n",
       "      <td>60</td>\n",
       "      <td>RL</td>\n",
       "      <td>160.000000</td>\n",
       "      <td>15623</td>\n",
       "      <td>Pave</td>\n",
       "      <td>None</td>\n",
       "      <td>IR1</td>\n",
       "      <td>Lvl</td>\n",
       "      <td>AllPub</td>\n",
       "      <td>Corner</td>\n",
       "      <td>...</td>\n",
       "      <td>555</td>\n",
       "      <td>Ex</td>\n",
       "      <td>MnPrv</td>\n",
       "      <td>None</td>\n",
       "      <td>0</td>\n",
       "      <td>7</td>\n",
       "      <td>2007</td>\n",
       "      <td>WD</td>\n",
       "      <td>Abnorml</td>\n",
       "      <td>745000</td>\n",
       "    </tr>\n",
       "    <tr>\n",
       "      <th>1373</th>\n",
       "      <td>20</td>\n",
       "      <td>RL</td>\n",
       "      <td>87.396346</td>\n",
       "      <td>11400</td>\n",
       "      <td>Pave</td>\n",
       "      <td>None</td>\n",
       "      <td>Reg</td>\n",
       "      <td>Lvl</td>\n",
       "      <td>AllPub</td>\n",
       "      <td>Inside</td>\n",
       "      <td>...</td>\n",
       "      <td>0</td>\n",
       "      <td>None</td>\n",
       "      <td>None</td>\n",
       "      <td>None</td>\n",
       "      <td>0</td>\n",
       "      <td>3</td>\n",
       "      <td>2007</td>\n",
       "      <td>WD</td>\n",
       "      <td>Normal</td>\n",
       "      <td>466500</td>\n",
       "    </tr>\n",
       "  </tbody>\n",
       "</table>\n",
       "<p>12 rows × 80 columns</p>\n",
       "</div>"
      ],
      "text/plain": [
       "      MSSubClass MSZoning  LotFrontage  LotArea Street Alley LotShape  \\\n",
       "178           20       RL    63.000000    17423   Pave  None      IR1   \n",
       "185           75       RM    90.000000    22950   Pave  None      IR2   \n",
       "440           20       RL   105.000000    15431   Pave  None      Reg   \n",
       "691           60       RL   104.000000    21535   Pave  None      IR1   \n",
       "769           60       RL    47.000000    53504   Pave  None      IR2   \n",
       "798           60       RL   104.000000    13518   Pave  None      Reg   \n",
       "803           60       RL   107.000000    13891   Pave  None      Reg   \n",
       "898           20       RL   100.000000    12919   Pave  None      IR1   \n",
       "1046          60       RL    85.000000    16056   Pave  None      IR1   \n",
       "1169          60       RL   118.000000    35760   Pave  None      IR1   \n",
       "1182          60       RL   160.000000    15623   Pave  None      IR1   \n",
       "1373          20       RL    87.396346    11400   Pave  None      Reg   \n",
       "\n",
       "     LandContour Utilities LotConfig    ...     PoolArea PoolQC  Fence  \\\n",
       "178          Lvl    AllPub   CulDSac    ...            0   None   None   \n",
       "185          Lvl    AllPub    Inside    ...            0   None  GdPrv   \n",
       "440          Lvl    AllPub    Inside    ...            0   None   None   \n",
       "691          Lvl    AllPub    Corner    ...            0   None   None   \n",
       "769          HLS    AllPub   CulDSac    ...            0   None   None   \n",
       "798          Lvl    AllPub    Inside    ...            0   None   None   \n",
       "803          Lvl    AllPub    Inside    ...            0   None   None   \n",
       "898          Lvl    AllPub    Inside    ...            0   None   None   \n",
       "1046         Lvl    AllPub    Inside    ...            0   None   None   \n",
       "1169         Lvl    AllPub   CulDSac    ...            0   None   None   \n",
       "1182         Lvl    AllPub    Corner    ...          555     Ex  MnPrv   \n",
       "1373         Lvl    AllPub    Inside    ...            0   None   None   \n",
       "\n",
       "     MiscFeature MiscVal MoSold  YrSold  SaleType  SaleCondition  SalePrice  \n",
       "178         None       0      7    2009       New        Partial     501837  \n",
       "185         None       0      6    2006        WD         Normal     475000  \n",
       "440         None       0      4    2009        WD         Normal     555000  \n",
       "691         None       0      1    2007        WD         Normal     755000  \n",
       "769         None       0      6    2010        WD         Normal     538000  \n",
       "798         None       0      7    2009       New        Partial     485000  \n",
       "803         None       0      1    2009       New        Partial     582933  \n",
       "898         None       0      3    2010       New        Partial     611657  \n",
       "1046        None       0      7    2006       New        Partial     556581  \n",
       "1169        None       0      7    2006        WD         Normal     625000  \n",
       "1182        None       0      7    2007        WD        Abnorml     745000  \n",
       "1373        None       0      3    2007        WD         Normal     466500  \n",
       "\n",
       "[12 rows x 80 columns]"
      ]
     },
     "execution_count": 27,
     "metadata": {},
     "output_type": "execute_result"
    }
   ],
   "source": [
    "first_quartile = train_df['SalePrice'].describe()['25%']\n",
    "third_quartile = train_df['SalePrice'].describe()['75%']\n",
    "iqr = third_quartile - first_quartile\n",
    "\n",
    "train_df[(train_df['SalePrice'] < (first_quartile - 3 * iqr)) \n",
    "                        | (train_df['SalePrice'] > (third_quartile + 3 * iqr))]"
   ]
  },
  {
   "cell_type": "markdown",
   "metadata": {},
   "source": [
    "These observations contain extreme outliers.\n",
    "\n",
    "It is possible that some prices may have been overpriced or underpriced.\n",
    "\n",
    "Therefore will be removed from the training data."
   ]
  },
  {
   "cell_type": "code",
   "execution_count": 28,
   "metadata": {},
   "outputs": [],
   "source": [
    "train_df = train_df[(train_df['SalePrice'] > (first_quartile - 3 * iqr)) \n",
    "                        & (train_df['SalePrice'] < (third_quartile + 3 * iqr))]"
   ]
  },
  {
   "cell_type": "markdown",
   "metadata": {},
   "source": [
    "After removing the extreme outliers, the data should be more smooth and the Lognormal model should fit the data better."
   ]
  },
  {
   "cell_type": "code",
   "execution_count": 29,
   "metadata": {},
   "outputs": [
    {
     "data": {
      "text/plain": [
       "<matplotlib.legend.Legend at 0x1a3966dfd0>"
      ]
     },
     "execution_count": 29,
     "metadata": {},
     "output_type": "execute_result"
    },
    {
     "data": {
      "image/png": "[encoded data removed]",
      "text/plain": [
       "<Figure size 432x288 with 1 Axes>"
      ]
     },
     "metadata": {
      "needs_background": "light"
     },
     "output_type": "display_data"
    }
   ],
   "source": [
    "log_prices = np.log(train_df['SalePrice'])\n",
    "x, y = generateCDF(log_prices)\n",
    "\n",
    "#parameters to be passed to the standard normal distribution\n",
    "mean = log_prices.mean()\n",
    "std = log_prices.std()\n",
    "size = len(train_df)\n",
    "\n",
    "\n",
    "#using the rvs (random variates) method from the standard normal distribution we generate a sample with the same parameters.\n",
    "sample = list(norm(loc=mean, scale=std).rvs(size=size))\n",
    "xs, ys = generateCDF(sample)\n",
    "\n",
    "plt.plot(x, y, marker='.', linestyle='', label='actual')\n",
    "plt.plot(xs, ys, marker='.', linestyle='', label='model')\n",
    "plt.xlabel('SalePrice(log-scale)')\n",
    "plt.ylabel('ECDF')\n",
    "#margins to keep the data off the plot edges.\n",
    "plt.margins(0.01)\n",
    "plt.legend()"
   ]
  },
  {
   "cell_type": "markdown",
   "metadata": {},
   "source": [
    "The lognormal model seems to fit the distribution slightly better.\n",
    "\n",
    "Now that we are done with outliers, we can move onto pair-wise explorations and take a look at correlations between the target SalePrice and other variables."
   ]
  },
  {
   "cell_type": "markdown",
   "metadata": {},
   "source": [
    " \n",
    " "
   ]
  },
  {
   "cell_type": "markdown",
   "metadata": {},
   "source": [
    "### **EXPLORING RELATIONSHIPS**"
   ]
  },
  {
   "cell_type": "markdown",
   "metadata": {},
   "source": [
    "##### **RELATIONSHIPS BETWEEN SALEPRICE AND OTHER NUMERICAL VARIABLES**"
   ]
  },
  {
   "cell_type": "markdown",
   "metadata": {},
   "source": [
    "To study the relationships between SalePrice and other numerical variables, we will take a look at the correlation coefficients.\n",
    "\n",
    "And since we only handled **extreme** outliers, we will compute Spearman's correlation to mitigate the effect of the remaining outliers. This will also allow us to unravel monotonic relationships.\n",
    "\n",
    "Throughout the following exploration, the names of the variables deemed decisive for the performance of our model will be saved in **final_features**."
   ]
  },
  {
   "cell_type": "code",
   "execution_count": 30,
   "metadata": {},
   "outputs": [],
   "source": [
    "# Initializing our final_feature variable\n",
    "final_features = []"
   ]
  },
  {
   "cell_type": "code",
   "execution_count": 31,
   "metadata": {},
   "outputs": [
    {
     "name": "stdout",
     "output_type": "stream",
     "text": [
      "Top 15 strongest correlations\n",
      " SalePrice       1.000000\n",
      "OverallQual     0.804704\n",
      "GrLivArea       0.724647\n",
      "GarageCars      0.682405\n",
      "YearBuilt       0.651286\n",
      "GarageArea      0.641203\n",
      "FullBath        0.628864\n",
      "TotalBsmtSF     0.594319\n",
      "YearRemodAdd    0.567541\n",
      "1stFlrSF        0.566580\n",
      "TotRmsAbvGrd    0.522695\n",
      "Fireplaces      0.512945\n",
      "OpenPorchSF     0.470797\n",
      "LotArea         0.446456\n",
      "LotFrontage     0.422850\n",
      "Name: SalePrice, dtype: float64 \n",
      "\n",
      "\n",
      "Top 15 weakest correlations\n",
      " BsmtFullBath     0.221686\n",
      "BsmtUnfSF        0.180412\n",
      "ScreenPorch      0.090755\n",
      "MoSold           0.076644\n",
      "3SsnPorch        0.069042\n",
      "PoolArea         0.046579\n",
      "MSSubClass       0.008951\n",
      "BsmtHalfBath    -0.012548\n",
      "YrSold          -0.030953\n",
      "BsmtFinSF2      -0.036316\n",
      "MiscVal         -0.059923\n",
      "LowQualFinSF    -0.076921\n",
      "OverallCond     -0.124711\n",
      "KitchenAbvGr    -0.166876\n",
      "EnclosedPorch   -0.216281\n",
      "Name: SalePrice, dtype: float64\n"
     ]
    }
   ],
   "source": [
    "# Computing absolute Spearman's rank correlation\n",
    "sp_corr = train_df.corr(method='spearman')['SalePrice'].sort_values(ascending=False)\n",
    "\n",
    "# Printing the top 10 most positive correlations\n",
    "print(\"Top 15 strongest correlations\\n\", sp_corr.head(15), \"\\n\\n\")\n",
    "\n",
    "# Printing the top most negative correlations\n",
    "print(\"Top 15 weakest correlations\\n\", sp_corr.tail(15))"
   ]
  },
  {
   "cell_type": "markdown",
   "metadata": {},
   "source": [
    "Before investigating the variables with the weakest correlations, let's take a look at the top 5 most correlated variables: **OverallQual, GrlivArea, GarageCars, YearBuilt and GarageArea**."
   ]
  },
  {
   "cell_type": "markdown",
   "metadata": {},
   "source": [
    "\n"
   ]
  },
  {
   "cell_type": "markdown",
   "metadata": {},
   "source": [
    "**OverallQual** represents the overall material and finish of the house and ranges from 1 to 10."
   ]
  },
  {
   "cell_type": "code",
   "execution_count": 32,
   "metadata": {},
   "outputs": [],
   "source": [
    "# Creating a spreadsheet style table of median SalePrice per Quality\n",
    "quality_pivot = train_df.pivot_table(values='SalePrice',\n",
    "               index='OverallQual',\n",
    "              aggfunc='median')"
   ]
  },
  {
   "cell_type": "code",
   "execution_count": 33,
   "metadata": {},
   "outputs": [
    {
     "data": {
      "text/plain": [
       "Text(0, 0.5, 'Median SalePrice')"
      ]
     },
     "execution_count": 33,
     "metadata": {},
     "output_type": "execute_result"
    },
    {
     "data": {
      "image/png": "[encoded data removed]",
      "text/plain": [
       "<Figure size 432x288 with 1 Axes>"
      ]
     },
     "metadata": {
      "needs_background": "light"
     },
     "output_type": "display_data"
    }
   ],
   "source": [
    "# Visualizing the distribution of SalePrice per quality.\n",
    "quality_pivot.plot(kind='bar')\n",
    "plt.title(\"Median SalePrice per OverallQual\")\n",
    "plt.xticks(rotation=0)\n",
    "plt.ylabel('Median SalePrice')"
   ]
  },
  {
   "cell_type": "markdown",
   "metadata": {},
   "source": [
    "As expected the distribution of SalePrice alongside the OverallQual axis is exponential. The higher the quality, the greater the price.\n",
    "\n",
    "The overall quality definitely has an impact on the SalePrice."
   ]
  },
  {
   "cell_type": "code",
   "execution_count": 34,
   "metadata": {},
   "outputs": [],
   "source": [
    "# Adding OverallQual to the list of our final features\n",
    "final_features.append('OverallQual')"
   ]
  },
  {
   "cell_type": "markdown",
   "metadata": {},
   "source": [
    " \n"
   ]
  },
  {
   "cell_type": "markdown",
   "metadata": {},
   "source": [
    "How about **GrLivArea**?\n",
    "\n",
    "This variable represents the ground living area in squarefeet (1 square feet = 0.092903 square meters)."
   ]
  },
  {
   "cell_type": "code",
   "execution_count": 35,
   "metadata": {},
   "outputs": [
    {
     "data": {
      "text/plain": [
       "Text(0, 0.5, 'SalePrice')"
      ]
     },
     "execution_count": 35,
     "metadata": {},
     "output_type": "execute_result"
    },
    {
     "data": {
      "image/png": "[encoded data removed]",
      "text/plain": [
       "<Figure size 864x360 with 1 Axes>"
      ]
     },
     "metadata": {
      "needs_background": "light"
     },
     "output_type": "display_data"
    }
   ],
   "source": [
    "plt.figure(figsize=(12,5))\n",
    "plt.scatter(train_df['GrLivArea'], train_df['SalePrice'])\n",
    "plt.title('Relationship between Ground Living Area and SalePrice')\n",
    "plt.xlabel('GrLivArea')\n",
    "plt.ylabel('SalePrice')"
   ]
  },
  {
   "cell_type": "markdown",
   "metadata": {},
   "source": [
    "The shape of this plot imply that there's a linear relationship between the two variables, which confirms the high correlation coefficient.\n",
    "\n",
    "In fact, one of the main characteristics that determine the price of a house is its ground living area."
   ]
  },
  {
   "cell_type": "code",
   "execution_count": 36,
   "metadata": {},
   "outputs": [],
   "source": [
    "# Adding GrLivArea to our final_feature list\n",
    "final_features.append('GrLivArea')"
   ]
  },
  {
   "cell_type": "markdown",
   "metadata": {},
   "source": [
    "However, we have two outliers that could disrupt the fit of a regression model.\n",
    "\n",
    "Two houses with ground living areas greater than 4000sqft shouldn't cost so low.\n",
    "\n",
    "Maybe these houses are located in areas that wouldn't attract a lot of potential buyers **if** they cost more.\n",
    "\n",
    "In any case, we will not delete these two observations.\n",
    "\n",
    "Later when we get to model training, we will make sure to handle outliers."
   ]
  },
  {
   "cell_type": "markdown",
   "metadata": {},
   "source": [
    "\n"
   ]
  },
  {
   "cell_type": "markdown",
   "metadata": {},
   "source": [
    "\n",
    "That being said, our next variable is **GarageCars**. This is the size of the garage expressed in car capacity."
   ]
  },
  {
   "cell_type": "code",
   "execution_count": 37,
   "metadata": {},
   "outputs": [
    {
     "data": {
      "text/plain": [
       "2    816\n",
       "1    369\n",
       "3    168\n",
       "0     81\n",
       "4      5\n",
       "Name: GarageCars, dtype: int64"
      ]
     },
     "execution_count": 37,
     "metadata": {},
     "output_type": "execute_result"
    }
   ],
   "source": [
    "# checking the number of unique values we have\n",
    "train_df['GarageCars'].value_counts()"
   ]
  },
  {
   "cell_type": "markdown",
   "metadata": {},
   "source": [
    "Since we don't have many unique values, we can compute a spreadsheet-style table of GarageCars according to SalePrice."
   ]
  },
  {
   "cell_type": "code",
   "execution_count": 38,
   "metadata": {},
   "outputs": [],
   "source": [
    "garagecars_pivot = train_df.pivot_table(values='SalePrice',\n",
    "                                        index='GarageCars', \n",
    "                                       aggfunc='median')"
   ]
  },
  {
   "cell_type": "code",
   "execution_count": 39,
   "metadata": {},
   "outputs": [
    {
     "data": {
      "text/plain": [
       "(array([0, 1, 2, 3, 4]), <a list of 5 Text xticklabel objects>)"
      ]
     },
     "execution_count": 39,
     "metadata": {},
     "output_type": "execute_result"
    },
    {
     "data": {
      "image/png": "[encoded data removed]",
      "text/plain": [
       "<Figure size 432x288 with 1 Axes>"
      ]
     },
     "metadata": {
      "needs_background": "light"
     },
     "output_type": "display_data"
    }
   ],
   "source": [
    "#Visualizing the spreadsheet\n",
    "garagecars_pivot.plot(kind='bar')\n",
    "plt.title(\"Median SalePrice per GarageCars(size in car capacity)\")\n",
    "plt.ylabel('SalePrice')\n",
    "plt.xticks(rotation=0)"
   ]
  },
  {
   "cell_type": "markdown",
   "metadata": {},
   "source": [
    "As opposed to OverallQual, we don't have a perfectly exponential distribution. The Median price for a 3-cars garage is greater than that of a 4-cars one.\n",
    "\n",
    "That might be due to the location of the properties as well.\n",
    "\n",
    "This variable is a good feature for our future model."
   ]
  },
  {
   "cell_type": "code",
   "execution_count": 40,
   "metadata": {},
   "outputs": [],
   "source": [
    "# Adding GarageCars in our list of features for the model\n",
    "final_features.append('GarageCars')"
   ]
  },
  {
   "cell_type": "markdown",
   "metadata": {},
   "source": [
    " \n",
    " "
   ]
  },
  {
   "cell_type": "markdown",
   "metadata": {},
   "source": [
    "Next we have **YearBuilt** which indicates the year a house was built."
   ]
  },
  {
   "cell_type": "code",
   "execution_count": 41,
   "metadata": {},
   "outputs": [
    {
     "data": {
      "text/html": [
       "<div>\n",
       "<style scoped>\n",
       "    .dataframe tbody tr th:only-of-type {\n",
       "        vertical-align: middle;\n",
       "    }\n",
       "\n",
       "    .dataframe tbody tr th {\n",
       "        vertical-align: top;\n",
       "    }\n",
       "\n",
       "    .dataframe thead th {\n",
       "        text-align: right;\n",
       "    }\n",
       "</style>\n",
       "<table border=\"1\" class=\"dataframe\">\n",
       "  <thead>\n",
       "    <tr style=\"text-align: right;\">\n",
       "      <th></th>\n",
       "      <th>SalePrice</th>\n",
       "    </tr>\n",
       "    <tr>\n",
       "      <th>YearBuilt</th>\n",
       "      <th></th>\n",
       "    </tr>\n",
       "  </thead>\n",
       "  <tbody>\n",
       "    <tr>\n",
       "      <th>1872</th>\n",
       "      <td>122000.0</td>\n",
       "    </tr>\n",
       "    <tr>\n",
       "      <th>1875</th>\n",
       "      <td>94000.0</td>\n",
       "    </tr>\n",
       "    <tr>\n",
       "      <th>1880</th>\n",
       "      <td>194989.5</td>\n",
       "    </tr>\n",
       "    <tr>\n",
       "      <th>1882</th>\n",
       "      <td>168000.0</td>\n",
       "    </tr>\n",
       "    <tr>\n",
       "      <th>1885</th>\n",
       "      <td>111250.0</td>\n",
       "    </tr>\n",
       "  </tbody>\n",
       "</table>\n",
       "</div>"
      ],
      "text/plain": [
       "           SalePrice\n",
       "YearBuilt           \n",
       "1872        122000.0\n",
       "1875         94000.0\n",
       "1880        194989.5\n",
       "1882        168000.0\n",
       "1885        111250.0"
      ]
     },
     "execution_count": 41,
     "metadata": {},
     "output_type": "execute_result"
    }
   ],
   "source": [
    "# creating a spreadsheet-style table of median SalePrice per YearBuilt\n",
    "year_pivot = train_df.pivot_table(values='SalePrice',\n",
    "                                 index='YearBuilt',\n",
    "                                 aggfunc='median')\n",
    "year_pivot.head()"
   ]
  },
  {
   "cell_type": "code",
   "execution_count": 42,
   "metadata": {},
   "outputs": [
    {
     "data": {
      "text/plain": [
       "Text(0, 0.5, 'Median SalePrice')"
      ]
     },
     "execution_count": 42,
     "metadata": {},
     "output_type": "execute_result"
    },
    {
     "data": {
      "image/png": "[encoded data removed]",
      "text/plain": [
       "<Figure size 1080x432 with 1 Axes>"
      ]
     },
     "metadata": {
      "needs_background": "light"
     },
     "output_type": "display_data"
    }
   ],
   "source": [
    "year_pivot.plot(marker='o', figsize=(15,6))\n",
    "plt.title('Median SalePrice over the years from ' + \n",
    "          str(train_df['YearBuilt'].min()) + \n",
    "          ' to ' + str(train_df['YearBuilt'].max()))\n",
    "plt.ylabel('Median SalePrice')"
   ]
  },
  {
   "cell_type": "markdown",
   "metadata": {},
   "source": [
    "Although it's not apparent as to why the greater the year the higher the price, there's clearly a relationship between the two variables.\n",
    "\n",
    "An obvious explanation would be that the older a house is the lower its price will be.\n",
    "\n",
    "To test this inference, we can create a new column HouseAge that will represent how old each house is in years and then look at its relationship with SalePrice.\n",
    "\n",
    "Luckily we have a variable YrSold that represents the year a house was sold."
   ]
  },
  {
   "cell_type": "code",
   "execution_count": 43,
   "metadata": {},
   "outputs": [],
   "source": [
    "train_df['HouseAge'] = train_df['YrSold'] - train_df['YearBuilt']"
   ]
  },
  {
   "cell_type": "code",
   "execution_count": 44,
   "metadata": {},
   "outputs": [],
   "source": [
    "house_age_pivot = train_df.pivot_table(values='SalePrice',\n",
    "                                      index='HouseAge',\n",
    "                                      aggfunc='median')"
   ]
  },
  {
   "cell_type": "code",
   "execution_count": 45,
   "metadata": {},
   "outputs": [
    {
     "data": {
      "text/plain": [
       "Text(0, 0.5, 'Median SalePrice')"
      ]
     },
     "execution_count": 45,
     "metadata": {},
     "output_type": "execute_result"
    },
    {
     "data": {
      "image/png": "[encoded data removed]",
      "text/plain": [
       "<Figure size 1080x432 with 1 Axes>"
      ]
     },
     "metadata": {
      "needs_background": "light"
     },
     "output_type": "display_data"
    }
   ],
   "source": [
    "house_age_pivot.plot(marker='o', figsize=(15,6))\n",
    "plt.title('Median SalePrice per HouseAge')\n",
    "plt.ylabel('Median SalePrice')"
   ]
  },
  {
   "cell_type": "markdown",
   "metadata": {},
   "source": [
    "Our inference was justified. The older the house the lower the price.\n",
    "\n",
    "It's safe to say that this new variable is a good feature.\n",
    "\n",
    "But before saving it, let's compare its correlation coefficient with YearBuilt's."
   ]
  },
  {
   "cell_type": "code",
   "execution_count": 46,
   "metadata": {},
   "outputs": [
    {
     "name": "stdout",
     "output_type": "stream",
     "text": [
      "Correlation coefficient of HouseAge:  0.6488329116486374\n"
     ]
    }
   ],
   "source": [
    "print(\"Correlation coefficient of HouseAge: \", abs(spearmanr(train_df['SalePrice'], train_df['HouseAge'])[0]))"
   ]
  },
  {
   "cell_type": "code",
   "execution_count": 47,
   "metadata": {},
   "outputs": [
    {
     "name": "stdout",
     "output_type": "stream",
     "text": [
      "Correlation coefficient of YearBuilt:  0.6512860010621763\n"
     ]
    }
   ],
   "source": [
    "print(\"Correlation coefficient of YearBuilt: \", sp_corr['YearBuilt'])"
   ]
  },
  {
   "cell_type": "markdown",
   "metadata": {},
   "source": [
    "Although YearBuilt is slightly more correlated, we will save HouseAge as one of our final features.\n",
    "\n",
    "The reason being that with this recode, we were able to discover 4 potential outliers that YearBuilt did not display."
   ]
  },
  {
   "cell_type": "code",
   "execution_count": 48,
   "metadata": {},
   "outputs": [],
   "source": [
    "final_features.append('HouseAge')"
   ]
  },
  {
   "cell_type": "markdown",
   "metadata": {},
   "source": [
    "Finally we have GarageArea. Just like GarageCars, this serves as a measure for the size of a garage but this time expressed in square feet.\n",
    "\n",
    "For the sake of simplifying this analysis and given that its correlation coefficient is lower than GarageCars', we will disregard this variable.\n",
    "\n",
    "We do have other variables with decent correlation coefficients. For these variables we will later decide whether they will be used to train our model.\n",
    "\n",
    "For now, let's resume our analysis and take a look at some of the variables with the lowest correlations."
   ]
  },
  {
   "cell_type": "code",
   "execution_count": 49,
   "metadata": {},
   "outputs": [
    {
     "data": {
      "text/plain": [
       "BsmtFullBath     0.221686\n",
       "BsmtUnfSF        0.180412\n",
       "ScreenPorch      0.090755\n",
       "MoSold           0.076644\n",
       "3SsnPorch        0.069042\n",
       "PoolArea         0.046579\n",
       "MSSubClass       0.008951\n",
       "BsmtHalfBath    -0.012548\n",
       "YrSold          -0.030953\n",
       "BsmtFinSF2      -0.036316\n",
       "MiscVal         -0.059923\n",
       "LowQualFinSF    -0.076921\n",
       "OverallCond     -0.124711\n",
       "KitchenAbvGr    -0.166876\n",
       "EnclosedPorch   -0.216281\n",
       "Name: SalePrice, dtype: float64"
      ]
     },
     "execution_count": 49,
     "metadata": {},
     "output_type": "execute_result"
    }
   ],
   "source": [
    "sp_corr.tail(15)"
   ]
  },
  {
   "cell_type": "markdown",
   "metadata": {},
   "source": [
    "Spearman's rank-order correlation measures the strength and direction of the monotonicity between two variables. So if a relationship is non-monotonic its correlation will be underestimated.\n",
    "\n",
    "So to make sure that we are not overlooking a potential existing relationship between either of the variables and SalePrice, we can apply a nonlinear transformation to the variables.\n",
    "\n",
    "To do so we will:\n",
    "- retrieve the corresponding variables\n",
    "- apply square root transformations to the variables\n",
    "- compute the Spearman's correlation and compare the results"
   ]
  },
  {
   "cell_type": "code",
   "execution_count": 50,
   "metadata": {},
   "outputs": [
    {
     "data": {
      "text/plain": [
       "3SsnPorch       -0.005785\n",
       "BsmtFinSF2       0.009972\n",
       "BsmtFullBath     0.021525\n",
       "BsmtHalfBath    -0.008374\n",
       "BsmtUnfSF        0.027135\n",
       "EnclosedPorch    0.040054\n",
       "KitchenAbvGr     0.024396\n",
       "LowQualFinSF     0.008973\n",
       "MSSubClass      -0.059770\n",
       "MiscVal          0.014813\n",
       "MoSold          -0.002015\n",
       "OverallCond      0.084285\n",
       "PoolArea        -0.009538\n",
       "SalePrice             NaN\n",
       "ScreenPorch     -0.004489\n",
       "YrSold          -0.004066\n",
       "Name: SalePrice, dtype: float64"
      ]
     },
     "execution_count": 50,
     "metadata": {},
     "output_type": "execute_result"
    }
   ],
   "source": [
    "# Retrieving variables\n",
    "variables = list(sp_corr.tail(15).index)\n",
    "\n",
    "# Adding SalePrice's label\n",
    "variables.append('SalePrice')\n",
    "\n",
    "# Applying square root transformations to the variables\n",
    "transformed_variables = np.sqrt(train_df[variables])\n",
    "\n",
    "# Computing new correlations\n",
    "new_corr = transformed_variables.corr()['SalePrice']\n",
    "\n",
    "# Checking differences between the original correlations and the new ones\n",
    "new_corr - sp_corr.tail(15)"
   ]
  },
  {
   "cell_type": "markdown",
   "metadata": {},
   "source": [
    "As seen from the differences, the square root transformation does not seem to have resulted in any stronger relationships.\n",
    "\n",
    "Consequently this concludes the search for relationships between SalePrice and other numerical variables."
   ]
  },
  {
   "cell_type": "markdown",
   "metadata": {},
   "source": [
    " \n"
   ]
  },
  {
   "cell_type": "markdown",
   "metadata": {},
   "source": [
    "##### **RELATIONSHIPS BETWEEN SALEPRICE AND CATEGORICAL VARIABLES**"
   ]
  },
  {
   "cell_type": "markdown",
   "metadata": {},
   "source": [
    "It's now time to look for potential relationships between SalePrice and categorical variables."
   ]
  },
  {
   "cell_type": "markdown",
   "metadata": {},
   "source": [
    "Since we are working with categorical variables, we can't use spearman's rank correlation.\n",
    "Instead we will perform an ANOVA test on a combination of each categorical variable along with the SalePrice variable.\n",
    "Since there 45 categorical variables we will have to filter which variables to use the test on.\n",
    "A simple strategy is to pick variables with less than 7 possible outcomes."
   ]
  },
  {
   "cell_type": "code",
   "execution_count": 60,
   "metadata": {},
   "outputs": [
    {
     "name": "stdout",
     "output_type": "stream",
     "text": [
      "There are 31 variables with less than 7 possible outcomes:['MSZoning', 'Street', 'Alley', 'LotShape', 'LandContour', 'Utilities', 'LotConfig', 'LandSlope', 'BldgType', 'RoofStyle', 'MasVnrType', 'ExterQual', 'ExterCond', 'Foundation', 'BsmtQual', 'BsmtCond', 'BsmtExposure', 'Heating', 'HeatingQC', 'CentralAir', 'Electrical', 'KitchenQual', 'FireplaceQu', 'GarageFinish', 'GarageQual', 'GarageCond', 'PavedDrive', 'PoolQC', 'Fence', 'MiscFeature', 'SaleCondition']\n"
     ]
    }
   ],
   "source": [
    "var = []\n",
    "for column in train_df.select_dtypes(exclude=['number']).columns:\n",
    "    if len(train_df[column].unique()) < 7:\n",
    "        var.append(column)\n",
    "\n",
    "print(\"There are \" + str(len(var)) + \" variables with less than 7 possible outcomes:\" + str(var))"
   ]
  },
  {
   "cell_type": "markdown",
   "metadata": {},
   "source": [
    "So for the ANOVA test, we will follow the following steps:\n",
    "- list all possible outcomes for the categorical variable\n",
    "- perform ANOVA test\n",
    "- decide if the results are significant enough to reject the null hypothesis which is \"the SalePrice doesn't have a significant effect on the categorical variable\"\n",
    "\n",
    "All results of the ANOVA tests will be stored in a dictionary object.\n",
    "\n",
    "Let's start with **MSZoning** which identifies the general zoning classification of the sale"
   ]
  },
  {
   "cell_type": "code",
   "execution_count": 63,
   "metadata": {},
   "outputs": [
    {
     "name": "stdout",
     "output_type": "stream",
     "text": [
      "RL\n",
      "RM\n",
      "FV\n",
      "RH\n",
      "C (all)\n"
     ]
    }
   ],
   "source": [
    "# Initializing dictionary object\n",
    "anova_results = {}\n",
    "\n",
    "# Listing all possible outcomes\n",
    "for value in train_df['MSZoning'].unique():\n",
    "    print(value)"
   ]
  },
  {
   "cell_type": "code",
   "execution_count": 66,
   "metadata": {},
   "outputs": [],
   "source": [
    "# Performing ANOVA test using scipy.stats.f_oneway\n",
    "F, p = f_oneway(train_df[train_df['MSZoning'] == \"RL\"]['SalePrice'],\n",
    "                train_df[train_df['MSZoning'] == \"RM\"]['SalePrice'],\n",
    "                train_df[train_df['MSZoning'] == \"FV\"]['SalePrice'],\n",
    "                train_df[train_df['MSZoning'] == \"RH\"]['SalePrice'],\n",
    "                train_df[train_df['MSZoning'] == \"C (all)\"]['SalePrice'])\n",
    "\n",
    "# Storing test results in anova_results\n",
    "anova_results['MSZoning'] = {'F':F, 'p':p}"
   ]
  },
  {
   "cell_type": "markdown",
   "metadata": {},
   "source": [
    "**Street**"
   ]
  },
  {
   "cell_type": "code",
   "execution_count": 70,
   "metadata": {},
   "outputs": [
    {
     "name": "stdout",
     "output_type": "stream",
     "text": [
      "Pave\n",
      "Grvl\n"
     ]
    }
   ],
   "source": [
    "# Listing all possible outcomes\n",
    "for value in train_df['Street'].unique():\n",
    "    print(value)"
   ]
  },
  {
   "cell_type": "code",
   "execution_count": 71,
   "metadata": {},
   "outputs": [],
   "source": [
    "# Performing ANOVA test using scipy.stats.f_oneway\n",
    "F, p = f_oneway(train_df[train_df['Street'] == \"Pave\"]['SalePrice'],\n",
    "                train_df[train_df['Street'] == \"Grvl\"]['SalePrice'])\n",
    "\n",
    "# Storing test results in anova_results\n",
    "anova_results['Street'] = {'F':F, 'p':p}"
   ]
  },
  {
   "cell_type": "markdown",
   "metadata": {},
   "source": [
    "**Alley**"
   ]
  },
  {
   "cell_type": "code",
   "execution_count": 74,
   "metadata": {},
   "outputs": [
    {
     "name": "stdout",
     "output_type": "stream",
     "text": [
      "None\n",
      "Grvl\n",
      "Pave\n"
     ]
    }
   ],
   "source": [
    "# Listing all possible outcomes\n",
    "for value in train_df['Alley'].unique():\n",
    "    print(value)"
   ]
  },
  {
   "cell_type": "code",
   "execution_count": 75,
   "metadata": {},
   "outputs": [],
   "source": [
    "# Performing ANOVA test using scipy.stats.f_oneway\n",
    "F, p = f_oneway(train_df[train_df['Alley'] == \"None\"]['SalePrice'],\n",
    "                train_df[train_df['Alley'] == \"Grvl\"]['SalePrice'],\n",
    "                train_df[train_df['Alley'] == \"Pave\"]['SalePrice'])\n",
    "\n",
    "# Storing test results in anova_results\n",
    "anova_results['Alley'] = {'F':F, 'p':p}"
   ]
  },
  {
   "cell_type": "markdown",
   "metadata": {},
   "source": [
    "**LotShape**"
   ]
  },
  {
   "cell_type": "code",
   "execution_count": 79,
   "metadata": {},
   "outputs": [
    {
     "name": "stdout",
     "output_type": "stream",
     "text": [
      "Reg\n",
      "IR1\n",
      "IR2\n",
      "IR3\n"
     ]
    }
   ],
   "source": [
    "# Listing all possible outcomes\n",
    "for value in train_df['LotShape'].unique():\n",
    "    print(value)"
   ]
  },
  {
   "cell_type": "code",
   "execution_count": 80,
   "metadata": {},
   "outputs": [],
   "source": [
    "# Performing ANOVA test using scipy.stats.f_oneway\n",
    "F, p = f_oneway(train_df[train_df['LotShape'] == \"Reg\"]['SalePrice'],\n",
    "                train_df[train_df['LotShape'] == \"IR1\"]['SalePrice'],\n",
    "                train_df[train_df['LotShape'] == \"IR2\"]['SalePrice'],\n",
    "                train_df[train_df['LotShape'] == \"IR3\"]['SalePrice'])\n",
    "\n",
    "# Storing test results in anova_results\n",
    "anova_results['LotShape'] = {'F':F, 'p':p}"
   ]
  },
  {
   "cell_type": "markdown",
   "metadata": {},
   "source": [
    "**LandContour**"
   ]
  },
  {
   "cell_type": "code",
   "execution_count": 84,
   "metadata": {},
   "outputs": [
    {
     "name": "stdout",
     "output_type": "stream",
     "text": [
      "Lvl\n",
      "Bnk\n",
      "HLS\n",
      "Low\n"
     ]
    }
   ],
   "source": [
    "# Listing all possible outcomes\n",
    "for value in train_df['LandContour'].unique():\n",
    "    print(value)"
   ]
  },
  {
   "cell_type": "code",
   "execution_count": 85,
   "metadata": {},
   "outputs": [],
   "source": [
    "# Performing ANOVA test using scipy.stats.f_oneway\n",
    "F, p = f_oneway(train_df[train_df['LandContour'] == \"Lvl\"]['SalePrice'],\n",
    "                train_df[train_df['LandContour'] == \"Bnk\"]['SalePrice'],\n",
    "                train_df[train_df['LandContour'] == \"HLS\"]['SalePrice'],\n",
    "                train_df[train_df['LandContour'] == \"Low\"]['SalePrice'])\n",
    "\n",
    "# Storing test results in anova_results\n",
    "anova_results['LandContour'] = {'F':F, 'p':p}"
   ]
  },
  {
   "cell_type": "markdown",
   "metadata": {},
   "source": [
    "**Utilities**"
   ]
  },
  {
   "cell_type": "code",
   "execution_count": 95,
   "metadata": {},
   "outputs": [
    {
     "name": "stdout",
     "output_type": "stream",
     "text": [
      "AllPub\n",
      "NoSeWa\n"
     ]
    }
   ],
   "source": [
    "# Listing all possible outcomes\n",
    "for value in train_df['Utilities'].unique():\n",
    "    print(value)"
   ]
  },
  {
   "cell_type": "code",
   "execution_count": 97,
   "metadata": {},
   "outputs": [],
   "source": [
    "# Performing ANOVA test using scipy.stats.f_oneway\n",
    "F, p = f_oneway(train_df[train_df['Utilities'] == \"AllPub\"]['SalePrice'],\n",
    "                train_df[train_df['Utilities'] == \"NoSeWa\"]['SalePrice'])\n",
    "\n",
    "# Storing test results in anova_results\n",
    "anova_results['Utilities'] = {'F':F, 'p':p}"
   ]
  },
  {
   "cell_type": "markdown",
   "metadata": {},
   "source": [
    "**LotConfig**"
   ]
  },
  {
   "cell_type": "code",
   "execution_count": 100,
   "metadata": {},
   "outputs": [
    {
     "name": "stdout",
     "output_type": "stream",
     "text": [
      "Inside\n",
      "FR2\n",
      "Corner\n",
      "CulDSac\n",
      "FR3\n"
     ]
    }
   ],
   "source": [
    "# Listing all possible outcomes\n",
    "for value in train_df['LotConfig'].unique():\n",
    "    print(value)"
   ]
  },
  {
   "cell_type": "code",
   "execution_count": 101,
   "metadata": {},
   "outputs": [],
   "source": [
    "# Performing ANOVA test using scipy.stats.f_oneway\n",
    "F, p = f_oneway(train_df[train_df['LotConfig'] == \"Inside\"]['SalePrice'],\n",
    "                train_df[train_df['LotConfig'] == \"FR2\"]['SalePrice'],\n",
    "                train_df[train_df['LotConfig'] == \"Corner\"]['SalePrice'],\n",
    "                train_df[train_df['LotConfig'] == \"CulDSac\"]['SalePrice'],\n",
    "                train_df[train_df['LotConfig'] == \"FR3\"]['SalePrice'])\n",
    "\n",
    "# Storing test results in anova_results\n",
    "anova_results['LotConfig'] = {'F':F, 'p':p}"
   ]
  },
  {
   "cell_type": "markdown",
   "metadata": {},
   "source": [
    "**LandSlope**"
   ]
  },
  {
   "cell_type": "code",
   "execution_count": 104,
   "metadata": {},
   "outputs": [
    {
     "name": "stdout",
     "output_type": "stream",
     "text": [
      "Gtl\n",
      "Mod\n",
      "Sev\n"
     ]
    }
   ],
   "source": [
    "# Listing all possible outcomes\n",
    "for value in train_df['LandSlope'].unique():\n",
    "    print(value)"
   ]
  },
  {
   "cell_type": "code",
   "execution_count": 105,
   "metadata": {},
   "outputs": [],
   "source": [
    "# Performing ANOVA test using scipy.stats.f_oneway\n",
    "F, p = f_oneway(train_df[train_df['LandSlope'] == \"Gtl\"]['SalePrice'],\n",
    "                train_df[train_df['LandSlope'] == \"Mod\"]['SalePrice'],\n",
    "                train_df[train_df['LandSlope'] == \"Sev\"]['SalePrice'])\n",
    "\n",
    "# Storing test results in anova_results\n",
    "anova_results['LandSlope'] = {'F':F, 'p':p}"
   ]
  },
  {
   "cell_type": "markdown",
   "metadata": {},
   "source": [
    "**BldgType**"
   ]
  },
  {
   "cell_type": "code",
   "execution_count": 109,
   "metadata": {},
   "outputs": [
    {
     "name": "stdout",
     "output_type": "stream",
     "text": [
      "1Fam\n",
      "2fmCon\n",
      "Duplex\n",
      "TwnhsE\n",
      "Twnhs\n"
     ]
    }
   ],
   "source": [
    "# Listing all possible outcomes\n",
    "for value in train_df['BldgType'].unique():\n",
    "    print(value)"
   ]
  },
  {
   "cell_type": "code",
   "execution_count": 110,
   "metadata": {},
   "outputs": [],
   "source": [
    "# Performing ANOVA test using scipy.stats.f_oneway\n",
    "F, p = f_oneway(train_df[train_df['BldgType'] == \"1Fam\"]['SalePrice'],\n",
    "                train_df[train_df['BldgType'] == \"2fmCon\"]['SalePrice'],\n",
    "                train_df[train_df['BldgType'] == \"Duplex\"]['SalePrice'],\n",
    "                train_df[train_df['BldgType'] == \"TwnhsE\"]['SalePrice'],\n",
    "                train_df[train_df['BldgType'] == \"Twnhs\"]['SalePrice'])\n",
    "\n",
    "# Storing test results in anova_results\n",
    "anova_results['BldgType'] = {'F':F, 'p':p}"
   ]
  },
  {
   "cell_type": "markdown",
   "metadata": {},
   "source": [
    "**RoofStyle**"
   ]
  },
  {
   "cell_type": "code",
   "execution_count": 113,
   "metadata": {},
   "outputs": [
    {
     "name": "stdout",
     "output_type": "stream",
     "text": [
      "Gable\n",
      "Hip\n",
      "Gambrel\n",
      "Mansard\n",
      "Flat\n",
      "Shed\n"
     ]
    }
   ],
   "source": [
    "# Listing all possible outcomes\n",
    "for value in train_df['RoofStyle'].unique():\n",
    "    print(value)"
   ]
  },
  {
   "cell_type": "code",
   "execution_count": 114,
   "metadata": {},
   "outputs": [],
   "source": [
    "# Performing ANOVA test using scipy.stats.f_oneway\n",
    "F, p = f_oneway(train_df[train_df['RoofStyle'] == \"Gable\"]['SalePrice'],\n",
    "                train_df[train_df['RoofStyle'] == \"Hip\"]['SalePrice'],\n",
    "                train_df[train_df['RoofStyle'] == \"Gambrel\"]['SalePrice'],\n",
    "                train_df[train_df['RoofStyle'] == \"Mansard\"]['SalePrice'],\n",
    "                train_df[train_df['RoofStyle'] == \"Flat\"]['SalePrice'],\n",
    "                train_df[train_df['RoofStyle'] == \"Shed\"]['SalePrice'])\n",
    "\n",
    "# Storing test results in anova_results\n",
    "anova_results['RoofStyle'] = {'F':F, 'p':p}"
   ]
  },
  {
   "cell_type": "markdown",
   "metadata": {},
   "source": [
    "**MasVnrType**"
   ]
  },
  {
   "cell_type": "code",
   "execution_count": 116,
   "metadata": {},
   "outputs": [
    {
     "name": "stdout",
     "output_type": "stream",
     "text": [
      "BrkFace\n",
      "None\n",
      "Stone\n",
      "BrkCmn\n"
     ]
    }
   ],
   "source": [
    "# Listing all possible outcomes\n",
    "for value in train_df['MasVnrType'].unique():\n",
    "    print(value)"
   ]
  },
  {
   "cell_type": "code",
   "execution_count": 117,
   "metadata": {},
   "outputs": [],
   "source": [
    "# Performing ANOVA test using scipy.stats.f_oneway\n",
    "F, p = f_oneway(train_df[train_df['MasVnrType'] == \"BrkFace\"]['SalePrice'],\n",
    "                train_df[train_df['MasVnrType'] == \"None\"]['SalePrice'],\n",
    "                train_df[train_df['MasVnrType'] == \"Stone\"]['SalePrice'],\n",
    "                train_df[train_df['MasVnrType'] == \"BrkCmn\"]['SalePrice'])\n",
    "\n",
    "# Storing test results in anova_results\n",
    "anova_results['MasVnrType'] = {'F':F, 'p':p}"
   ]
  },
  {
   "cell_type": "markdown",
   "metadata": {},
   "source": [
    "**ExterQual**"
   ]
  },
  {
   "cell_type": "code",
   "execution_count": 120,
   "metadata": {},
   "outputs": [
    {
     "name": "stdout",
     "output_type": "stream",
     "text": [
      "Gd\n",
      "TA\n",
      "Ex\n",
      "Fa\n"
     ]
    }
   ],
   "source": [
    "# Listing all possible outcomes\n",
    "for value in train_df['ExterQual'].unique():\n",
    "    print(value)"
   ]
  },
  {
   "cell_type": "code",
   "execution_count": 121,
   "metadata": {},
   "outputs": [],
   "source": [
    "# Performing ANOVA test using scipy.stats.f_oneway\n",
    "F, p = f_oneway(train_df[train_df['ExterQual'] == \"Gd\"]['SalePrice'],\n",
    "                train_df[train_df['ExterQual'] == \"TA\"]['SalePrice'],\n",
    "                train_df[train_df['ExterQual'] == \"Ex\"]['SalePrice'],\n",
    "                train_df[train_df['ExterQual'] == \"Fa\"]['SalePrice'])\n",
    "\n",
    "# Storing test results in anova_results\n",
    "anova_results['ExterQual'] = {'F':F, 'p':p}"
   ]
  },
  {
   "cell_type": "markdown",
   "metadata": {},
   "source": [
    "**ExterCond**"
   ]
  },
  {
   "cell_type": "code",
   "execution_count": 124,
   "metadata": {},
   "outputs": [
    {
     "name": "stdout",
     "output_type": "stream",
     "text": [
      "TA\n",
      "Gd\n",
      "Fa\n",
      "Po\n",
      "Ex\n"
     ]
    }
   ],
   "source": [
    "# Listing all possible outcomes\n",
    "for value in train_df['ExterCond'].unique():\n",
    "    print(value)"
   ]
  },
  {
   "cell_type": "code",
   "execution_count": 125,
   "metadata": {},
   "outputs": [],
   "source": [
    "# Performing ANOVA test using scipy.stats.f_oneway\n",
    "F, p = f_oneway(train_df[train_df['ExterCond'] == \"TA\"]['SalePrice'],\n",
    "                train_df[train_df['ExterCond'] == \"Gd\"]['SalePrice'],\n",
    "                train_df[train_df['ExterCond'] == \"Fa\"]['SalePrice'],\n",
    "                train_df[train_df['ExterCond'] == \"Po\"]['SalePrice'],\n",
    "                train_df[train_df['ExterCond'] == \"Ex\"]['SalePrice'])\n",
    "\n",
    "# Storing test results in anova_results\n",
    "anova_results['ExterCond'] = {'F':F, 'p':p}"
   ]
  },
  {
   "cell_type": "markdown",
   "metadata": {},
   "source": [
    "**Foundation**"
   ]
  },
  {
   "cell_type": "code",
   "execution_count": 127,
   "metadata": {},
   "outputs": [
    {
     "name": "stdout",
     "output_type": "stream",
     "text": [
      "PConc\n",
      "CBlock\n",
      "BrkTil\n",
      "Wood\n",
      "Slab\n",
      "Stone\n"
     ]
    }
   ],
   "source": [
    "# Listing all possible outcomes\n",
    "for value in train_df['Foundation'].unique():\n",
    "    print(value)"
   ]
  },
  {
   "cell_type": "code",
   "execution_count": 128,
   "metadata": {},
   "outputs": [],
   "source": [
    "# Performing ANOVA test using scipy.stats.f_oneway\n",
    "F, p = f_oneway(train_df[train_df['Foundation'] == \"PConc\"]['SalePrice'],\n",
    "                train_df[train_df['Foundation'] == \"CBlock\"]['SalePrice'],\n",
    "                train_df[train_df['Foundation'] == \"BrkTil\"]['SalePrice'],\n",
    "                train_df[train_df['Foundation'] == \"Wood\"]['SalePrice'],\n",
    "                train_df[train_df['Foundation'] == \"Slab\"]['SalePrice'],\n",
    "                train_df[train_df['Foundation'] == \"Stone\"]['SalePrice'])\n",
    "\n",
    "# Storing test results in anova_results\n",
    "anova_results['Foundation'] = {'F':F, 'p':p}"
   ]
  },
  {
   "cell_type": "markdown",
   "metadata": {},
   "source": [
    "**BsmtQual**"
   ]
  },
  {
   "cell_type": "code",
   "execution_count": 130,
   "metadata": {},
   "outputs": [
    {
     "name": "stdout",
     "output_type": "stream",
     "text": [
      "Gd\n",
      "TA\n",
      "Ex\n",
      "None\n",
      "Fa\n"
     ]
    }
   ],
   "source": [
    "# Listing all possible outcomes\n",
    "for value in train_df['BsmtQual'].unique():\n",
    "    print(value)"
   ]
  },
  {
   "cell_type": "code",
   "execution_count": 131,
   "metadata": {},
   "outputs": [],
   "source": [
    "# Performing ANOVA test using scipy.stats.f_oneway\n",
    "F, p = f_oneway(train_df[train_df['BsmtQual'] == \"Gd\"]['SalePrice'],\n",
    "                train_df[train_df['BsmtQual'] == \"TA\"]['SalePrice'],\n",
    "                train_df[train_df['BsmtQual'] == \"Ex\"]['SalePrice'],\n",
    "                train_df[train_df['BsmtQual'] == \"None\"]['SalePrice'],\n",
    "                train_df[train_df['BsmtQual'] == \"Fa\"]['SalePrice'])\n",
    "\n",
    "# Storing test results in anova_results\n",
    "anova_results['BsmtQual'] = {'F':F, 'p':p}"
   ]
  },
  {
   "cell_type": "markdown",
   "metadata": {},
   "source": [
    "**BsmtCond**"
   ]
  },
  {
   "cell_type": "code",
   "execution_count": 133,
   "metadata": {},
   "outputs": [
    {
     "name": "stdout",
     "output_type": "stream",
     "text": [
      "TA\n",
      "Gd\n",
      "None\n",
      "Fa\n",
      "Po\n"
     ]
    }
   ],
   "source": [
    "# Listing all possible outcomes\n",
    "for value in train_df['BsmtCond'].unique():\n",
    "    print(value)"
   ]
  },
  {
   "cell_type": "code",
   "execution_count": 134,
   "metadata": {},
   "outputs": [],
   "source": [
    "# Performing ANOVA test using scipy.stats.f_oneway\n",
    "F, p = f_oneway(train_df[train_df['BsmtCond'] == \"Gd\"]['SalePrice'],\n",
    "                train_df[train_df['BsmtCond'] == \"TA\"]['SalePrice'],\n",
    "                train_df[train_df['BsmtCond'] == \"Po\"]['SalePrice'],\n",
    "                train_df[train_df['BsmtCond'] == \"None\"]['SalePrice'],\n",
    "                train_df[train_df['BsmtCond'] == \"Fa\"]['SalePrice'])\n",
    "\n",
    "# Storing test results in anova_results\n",
    "anova_results['BsmtCond'] = {'F':F, 'p':p}"
   ]
  },
  {
   "cell_type": "markdown",
   "metadata": {},
   "source": [
    "**BsmtExposure**"
   ]
  },
  {
   "cell_type": "code",
   "execution_count": 136,
   "metadata": {},
   "outputs": [
    {
     "name": "stdout",
     "output_type": "stream",
     "text": [
      "No\n",
      "Gd\n",
      "Mn\n",
      "Av\n",
      "None\n"
     ]
    }
   ],
   "source": [
    "# Listing all possible outcomes\n",
    "for value in train_df['BsmtExposure'].unique():\n",
    "    print(value)"
   ]
  },
  {
   "cell_type": "code",
   "execution_count": 137,
   "metadata": {},
   "outputs": [],
   "source": [
    "# Performing ANOVA test using scipy.stats.f_oneway\n",
    "F, p = f_oneway(train_df[train_df['BsmtExposure'] == \"No\"]['SalePrice'],\n",
    "                train_df[train_df['BsmtExposure'] == \"Gd\"]['SalePrice'],\n",
    "                train_df[train_df['BsmtExposure'] == \"Mn\"]['SalePrice'],\n",
    "                train_df[train_df['BsmtExposure'] == \"Av\"]['SalePrice'],\n",
    "                train_df[train_df['BsmtExposure'] == \"None\"]['SalePrice'])\n",
    "\n",
    "# Storing test results in anova_results\n",
    "anova_results['BsmtExposure'] = {'F':F, 'p':p}"
   ]
  },
  {
   "cell_type": "markdown",
   "metadata": {},
   "source": [
    "**Heating**"
   ]
  },
  {
   "cell_type": "code",
   "execution_count": 139,
   "metadata": {},
   "outputs": [
    {
     "name": "stdout",
     "output_type": "stream",
     "text": [
      "GasA\n",
      "GasW\n",
      "Grav\n",
      "Wall\n",
      "OthW\n",
      "Floor\n"
     ]
    }
   ],
   "source": [
    "# Listing all possible outcomes\n",
    "for value in train_df['Heating'].unique():\n",
    "    print(value)"
   ]
  },
  {
   "cell_type": "code",
   "execution_count": 143,
   "metadata": {},
   "outputs": [],
   "source": [
    "# Performing ANOVA test using scipy.stats.f_oneway\n",
    "F, p = f_oneway(train_df[train_df['Heating'] == \"GasA\"]['SalePrice'],\n",
    "                train_df[train_df['Heating'] == \"GasW\"]['SalePrice'],\n",
    "                train_df[train_df['Heating'] == \"Grav\"]['SalePrice'],\n",
    "                train_df[train_df['Heating'] == \"Wall\"]['SalePrice'],\n",
    "                train_df[train_df['Heating'] == \"OthW\"]['SalePrice'],\n",
    "                train_df[train_df['Heating'] == \"Floor\"]['SalePrice'])\n",
    "\n",
    "# Storing test results in anova_results\n",
    "anova_results['Heating'] = {'F':F, 'p':p}"
   ]
  },
  {
   "cell_type": "markdown",
   "metadata": {},
   "source": [
    "**HeatingQC**"
   ]
  },
  {
   "cell_type": "code",
   "execution_count": 146,
   "metadata": {},
   "outputs": [
    {
     "name": "stdout",
     "output_type": "stream",
     "text": [
      "Ex\n",
      "Gd\n",
      "TA\n",
      "Fa\n",
      "Po\n"
     ]
    }
   ],
   "source": [
    "# Listing all possible outcomes\n",
    "for value in train_df['HeatingQC'].unique():\n",
    "    print(value)"
   ]
  },
  {
   "cell_type": "code",
   "execution_count": 147,
   "metadata": {},
   "outputs": [],
   "source": [
    "# Performing ANOVA test using scipy.stats.f_oneway\n",
    "F, p = f_oneway(train_df[train_df['HeatingQC'] == \"Ex\"]['SalePrice'],\n",
    "                train_df[train_df['HeatingQC'] == \"Gd\"]['SalePrice'],\n",
    "                train_df[train_df['HeatingQC'] == \"TA\"]['SalePrice'],\n",
    "                train_df[train_df['HeatingQC'] == \"Fa\"]['SalePrice'],\n",
    "                train_df[train_df['HeatingQC'] == \"Po\"]['SalePrice'])\n",
    "\n",
    "# Storing test results in anova_results\n",
    "anova_results['HeatingQC'] = {'F':F, 'p':p}"
   ]
  },
  {
   "cell_type": "markdown",
   "metadata": {},
   "source": [
    "**CentralAir**"
   ]
  },
  {
   "cell_type": "code",
   "execution_count": 150,
   "metadata": {},
   "outputs": [
    {
     "name": "stdout",
     "output_type": "stream",
     "text": [
      "Y\n",
      "N\n"
     ]
    }
   ],
   "source": [
    "# Listing all possible outcomes\n",
    "for value in train_df['CentralAir'].unique():\n",
    "    print(value)"
   ]
  },
  {
   "cell_type": "code",
   "execution_count": 151,
   "metadata": {},
   "outputs": [],
   "source": [
    "# Performing ANOVA test using scipy.stats.f_oneway\n",
    "F, p = f_oneway(train_df[train_df['CentralAir'] == \"Y\"]['SalePrice'],\n",
    "                train_df[train_df['CentralAir'] == \"N\"]['SalePrice'])\n",
    "\n",
    "# Storing test results in anova_results\n",
    "anova_results['CentralAir'] = {'F':F, 'p':p}"
   ]
  },
  {
   "cell_type": "markdown",
   "metadata": {},
   "source": [
    "**Electrical**"
   ]
  },
  {
   "cell_type": "code",
   "execution_count": 153,
   "metadata": {},
   "outputs": [
    {
     "name": "stdout",
     "output_type": "stream",
     "text": [
      "SBrkr\n",
      "FuseF\n",
      "FuseA\n",
      "FuseP\n",
      "Mix\n"
     ]
    }
   ],
   "source": [
    "# Listing all possible outcomes\n",
    "for value in train_df['Electrical'].unique():\n",
    "    print(value)"
   ]
  },
  {
   "cell_type": "code",
   "execution_count": 154,
   "metadata": {},
   "outputs": [],
   "source": [
    "# Performing ANOVA test using scipy.stats.f_oneway\n",
    "F, p = f_oneway(train_df[train_df['Electrical'] == \"SBrkr\"]['SalePrice'],\n",
    "                train_df[train_df['Electrical'] == \"FuseF\"]['SalePrice'],\n",
    "                train_df[train_df['Electrical'] == \"FuseA\"]['SalePrice'],\n",
    "                train_df[train_df['Electrical'] == \"FuseP\"]['SalePrice'],\n",
    "                train_df[train_df['Electrical'] == \"Mix\"]['SalePrice'])\n",
    "\n",
    "# Storing test results in anova_results\n",
    "anova_results['Electrical'] = {'F':F, 'p':p}"
   ]
  },
  {
   "cell_type": "markdown",
   "metadata": {},
   "source": [
    "**KitchenQual**"
   ]
  },
  {
   "cell_type": "code",
   "execution_count": 156,
   "metadata": {},
   "outputs": [
    {
     "name": "stdout",
     "output_type": "stream",
     "text": [
      "Gd\n",
      "TA\n",
      "Ex\n",
      "Fa\n"
     ]
    }
   ],
   "source": [
    "# Listing all possible outcomes\n",
    "for value in train_df['KitchenQual'].unique():\n",
    "    print(value)"
   ]
  },
  {
   "cell_type": "code",
   "execution_count": 157,
   "metadata": {},
   "outputs": [],
   "source": [
    "# Performing ANOVA test using scipy.stats.f_oneway\n",
    "F, p = f_oneway(train_df[train_df['KitchenQual'] == \"Gd\"]['SalePrice'],\n",
    "                train_df[train_df['KitchenQual'] == \"TA\"]['SalePrice'],\n",
    "                train_df[train_df['KitchenQual'] == \"Ex\"]['SalePrice'],\n",
    "                train_df[train_df['KitchenQual'] == \"Fa\"]['SalePrice'])\n",
    "\n",
    "# Storing test results in anova_results\n",
    "anova_results['KitchenQual'] = {'F':F, 'p':p}"
   ]
  },
  {
   "cell_type": "markdown",
   "metadata": {},
   "source": [
    "**FireplaceQu**"
   ]
  },
  {
   "cell_type": "code",
   "execution_count": 162,
   "metadata": {},
   "outputs": [
    {
     "name": "stdout",
     "output_type": "stream",
     "text": [
      "None\n",
      "TA\n",
      "Gd\n",
      "Fa\n",
      "Ex\n",
      "Po\n"
     ]
    }
   ],
   "source": [
    "# Listing all possible outcomes\n",
    "for value in train_df['FireplaceQu'].unique():\n",
    "    print(value)"
   ]
  },
  {
   "cell_type": "code",
   "execution_count": 163,
   "metadata": {},
   "outputs": [],
   "source": [
    "# Performing ANOVA test using scipy.stats.f_oneway\n",
    "F, p = f_oneway(train_df[train_df['FireplaceQu'] == \"None\"]['SalePrice'],\n",
    "                train_df[train_df['FireplaceQu'] == \"TA\"]['SalePrice'],\n",
    "                train_df[train_df['FireplaceQu'] == \"Gd\"]['SalePrice'],\n",
    "                train_df[train_df['FireplaceQu'] == \"Fa\"]['SalePrice'],\n",
    "                train_df[train_df['FireplaceQu'] == \"Ex\"]['SalePrice'],\n",
    "                train_df[train_df['FireplaceQu'] == \"Po\"]['SalePrice'])\n",
    "\n",
    "# Storing test results in anova_results\n",
    "anova_results['FireplaceQu'] = {'F':F, 'p':p}"
   ]
  },
  {
   "cell_type": "markdown",
   "metadata": {},
   "source": [
    "**GarageFinish**"
   ]
  },
  {
   "cell_type": "code",
   "execution_count": 164,
   "metadata": {},
   "outputs": [
    {
     "name": "stdout",
     "output_type": "stream",
     "text": [
      "RFn\n",
      "Unf\n",
      "Fin\n",
      "None\n"
     ]
    }
   ],
   "source": [
    "# Listing all possible outcomes\n",
    "for value in train_df['GarageFinish'].unique():\n",
    "    print(value)"
   ]
  },
  {
   "cell_type": "code",
   "execution_count": 165,
   "metadata": {},
   "outputs": [],
   "source": [
    "# Performing ANOVA test using scipy.stats.f_oneway\n",
    "F, p = f_oneway(train_df[train_df['GarageFinish'] == \"RFn\"]['SalePrice'],\n",
    "                train_df[train_df['GarageFinish'] == \"Unf\"]['SalePrice'],\n",
    "                train_df[train_df['GarageFinish'] == \"Fin\"]['SalePrice'],\n",
    "                train_df[train_df['GarageFinish'] == \"None\"]['SalePrice'])\n",
    "\n",
    "# Storing test results in anova_results\n",
    "anova_results['GarageFinish'] = {'F':F, 'p':p}"
   ]
  },
  {
   "cell_type": "markdown",
   "metadata": {},
   "source": [
    "**GarageQual**"
   ]
  },
  {
   "cell_type": "code",
   "execution_count": 167,
   "metadata": {},
   "outputs": [
    {
     "name": "stdout",
     "output_type": "stream",
     "text": [
      "TA\n",
      "Fa\n",
      "Gd\n",
      "None\n",
      "Po\n",
      "Ex\n"
     ]
    }
   ],
   "source": [
    "# Listing all possible outcomes\n",
    "for value in train_df['GarageQual'].unique():\n",
    "    print(value)"
   ]
  },
  {
   "cell_type": "code",
   "execution_count": 168,
   "metadata": {},
   "outputs": [],
   "source": [
    "# Performing ANOVA test using scipy.stats.f_oneway\n",
    "F, p = f_oneway(train_df[train_df['GarageQual'] == \"TA\"]['SalePrice'],\n",
    "                train_df[train_df['GarageQual'] == \"Fa\"]['SalePrice'],\n",
    "                train_df[train_df['GarageQual'] == \"Gd\"]['SalePrice'],\n",
    "                train_df[train_df['GarageQual'] == \"None\"]['SalePrice'],\n",
    "                train_df[train_df['GarageQual'] == \"Po\"]['SalePrice'],\n",
    "                train_df[train_df['GarageQual'] == \"Ex\"]['SalePrice'])\n",
    "\n",
    "# Storing test results in anova_results\n",
    "anova_results['GarageQual'] = {'F':F, 'p':p}"
   ]
  },
  {
   "cell_type": "markdown",
   "metadata": {},
   "source": [
    "**GarageCond**"
   ]
  },
  {
   "cell_type": "code",
   "execution_count": 170,
   "metadata": {},
   "outputs": [
    {
     "name": "stdout",
     "output_type": "stream",
     "text": [
      "TA\n",
      "Fa\n",
      "None\n",
      "Gd\n",
      "Po\n",
      "Ex\n"
     ]
    }
   ],
   "source": [
    "# Listing all possible outcomes\n",
    "for value in train_df['GarageCond'].unique():\n",
    "    print(value)"
   ]
  },
  {
   "cell_type": "code",
   "execution_count": 171,
   "metadata": {},
   "outputs": [],
   "source": [
    "# Performing ANOVA test using scipy.stats.f_oneway\n",
    "F, p = f_oneway(train_df[train_df['GarageCond'] == \"TA\"]['SalePrice'],\n",
    "                train_df[train_df['GarageCond'] == \"Fa\"]['SalePrice'],\n",
    "                train_df[train_df['GarageCond'] == \"Gd\"]['SalePrice'],\n",
    "                train_df[train_df['GarageCond'] == \"None\"]['SalePrice'],\n",
    "                train_df[train_df['GarageCond'] == \"Po\"]['SalePrice'],\n",
    "                train_df[train_df['GarageCond'] == \"Ex\"]['SalePrice'])\n",
    "\n",
    "# Storing test results in anova_results\n",
    "anova_results['GarageCond'] = {'F':F, 'p':p}"
   ]
  },
  {
   "cell_type": "markdown",
   "metadata": {},
   "source": [
    "**PavedDrive**"
   ]
  },
  {
   "cell_type": "code",
   "execution_count": 173,
   "metadata": {},
   "outputs": [
    {
     "name": "stdout",
     "output_type": "stream",
     "text": [
      "Y\n",
      "N\n",
      "P\n"
     ]
    }
   ],
   "source": [
    "# Listing all possible outcomes\n",
    "for value in train_df['PavedDrive'].unique():\n",
    "    print(value)"
   ]
  },
  {
   "cell_type": "code",
   "execution_count": 174,
   "metadata": {},
   "outputs": [],
   "source": [
    "# Performing ANOVA test using scipy.stats.f_oneway\n",
    "F, p = f_oneway(train_df[train_df['PavedDrive'] == \"Y\"]['SalePrice'],\n",
    "                train_df[train_df['PavedDrive'] == \"N\"]['SalePrice'],\n",
    "                train_df[train_df['PavedDrive'] == \"P\"]['SalePrice'])\n",
    "\n",
    "# Storing test results in anova_results\n",
    "anova_results['PavedDrive'] = {'F':F, 'p':p}"
   ]
  },
  {
   "cell_type": "markdown",
   "metadata": {},
   "source": [
    "**PoolQC**"
   ]
  },
  {
   "cell_type": "code",
   "execution_count": 176,
   "metadata": {},
   "outputs": [
    {
     "name": "stdout",
     "output_type": "stream",
     "text": [
      "None\n",
      "Ex\n",
      "Fa\n",
      "Gd\n"
     ]
    }
   ],
   "source": [
    "# Listing all possible outcomes\n",
    "for value in train_df['PoolQC'].unique():\n",
    "    print(value)"
   ]
  },
  {
   "cell_type": "code",
   "execution_count": 177,
   "metadata": {},
   "outputs": [],
   "source": [
    "# Performing ANOVA test using scipy.stats.f_oneway\n",
    "F, p = f_oneway(train_df[train_df['PoolQC'] == \"None\"]['SalePrice'],\n",
    "                train_df[train_df['PoolQC'] == \"Ex\"]['SalePrice'],\n",
    "                train_df[train_df['PoolQC'] == \"Fa\"]['SalePrice'],\n",
    "                train_df[train_df['PoolQC'] == \"Gd\"]['SalePrice'])\n",
    "\n",
    "# Storing test results in anova_results\n",
    "anova_results['PoolQC'] = {'F':F, 'p':p}"
   ]
  },
  {
   "cell_type": "markdown",
   "metadata": {},
   "source": [
    "**Fence**"
   ]
  },
  {
   "cell_type": "code",
   "execution_count": 179,
   "metadata": {},
   "outputs": [
    {
     "name": "stdout",
     "output_type": "stream",
     "text": [
      "None\n",
      "MnPrv\n",
      "GdWo\n",
      "GdPrv\n",
      "MnWw\n"
     ]
    }
   ],
   "source": [
    "# Listing all possible outcomes\n",
    "for value in train_df['Fence'].unique():\n",
    "    print(value)"
   ]
  },
  {
   "cell_type": "code",
   "execution_count": 180,
   "metadata": {},
   "outputs": [],
   "source": [
    "# Performing ANOVA test using scipy.stats.f_oneway\n",
    "F, p = f_oneway(train_df[train_df['Fence'] == \"None\"]['SalePrice'],\n",
    "                train_df[train_df['Fence'] == \"MnPrv\"]['SalePrice'],\n",
    "                train_df[train_df['Fence'] == \"GdWo\"]['SalePrice'],\n",
    "                train_df[train_df['Fence'] == \"GdPrv\"]['SalePrice'],\n",
    "                train_df[train_df['Fence'] == \"MnWw\"]['SalePrice'])\n",
    "\n",
    "# Storing test results in anova_results\n",
    "anova_results['Fence'] = {'F':F, 'p':p}"
   ]
  },
  {
   "cell_type": "markdown",
   "metadata": {},
   "source": [
    "**MiscFeature**"
   ]
  },
  {
   "cell_type": "code",
   "execution_count": 182,
   "metadata": {},
   "outputs": [
    {
     "name": "stdout",
     "output_type": "stream",
     "text": [
      "None\n",
      "Shed\n",
      "Gar2\n",
      "Othr\n",
      "TenC\n"
     ]
    }
   ],
   "source": [
    "# Listing all possible outcomes\n",
    "for value in train_df['MiscFeature'].unique():\n",
    "    print(value)"
   ]
  },
  {
   "cell_type": "code",
   "execution_count": 183,
   "metadata": {},
   "outputs": [],
   "source": [
    "# Performing ANOVA test using scipy.stats.f_oneway\n",
    "F, p = f_oneway(train_df[train_df['MiscFeature'] == \"None\"]['SalePrice'],\n",
    "                train_df[train_df['MiscFeature'] == \"Shed\"]['SalePrice'],\n",
    "                train_df[train_df['MiscFeature'] == \"Gar2\"]['SalePrice'],\n",
    "                train_df[train_df['MiscFeature'] == \"Othr\"]['SalePrice'],\n",
    "                train_df[train_df['MiscFeature'] == \"TenC\"]['SalePrice'])\n",
    "\n",
    "# Storing test results in anova_results\n",
    "anova_results['MiscFeature'] = {'F':F, 'p':p}"
   ]
  },
  {
   "cell_type": "markdown",
   "metadata": {},
   "source": [
    "**SaleCondition**"
   ]
  },
  {
   "cell_type": "code",
   "execution_count": 185,
   "metadata": {},
   "outputs": [
    {
     "name": "stdout",
     "output_type": "stream",
     "text": [
      "Normal\n",
      "Abnorml\n",
      "Partial\n",
      "AdjLand\n",
      "Alloca\n",
      "Family\n"
     ]
    }
   ],
   "source": [
    "# Listing all possible outcomes\n",
    "for value in train_df['SaleCondition'].unique():\n",
    "    print(value)"
   ]
  },
  {
   "cell_type": "code",
   "execution_count": 186,
   "metadata": {},
   "outputs": [],
   "source": [
    "# Performing ANOVA test using scipy.stats.f_oneway\n",
    "F, p = f_oneway(train_df[train_df['SaleCondition'] == \"Normal\"]['SalePrice'],\n",
    "                train_df[train_df['SaleCondition'] == \"Abnorml\"]['SalePrice'],\n",
    "                train_df[train_df['SaleCondition'] == \"Partial\"]['SalePrice'],\n",
    "                train_df[train_df['SaleCondition'] == \"AdjLand\"]['SalePrice'],\n",
    "                train_df[train_df['SaleCondition'] == \"Alloca\"]['SalePrice'],\n",
    "                train_df[train_df['SaleCondition'] == \"Family\"]['SalePrice'])\n",
    "\n",
    "# Storing test results in anova_results\n",
    "anova_results['SaleCondition'] = {'F':F, 'p':p}"
   ]
  },
  {
   "cell_type": "markdown",
   "metadata": {},
   "source": [
    "Now let's take a look at the results."
   ]
  },
  {
   "cell_type": "code",
   "execution_count": 188,
   "metadata": {},
   "outputs": [
    {
     "data": {
      "text/plain": [
       "{'MSZoning': {'F': 53.80137615860899, 'p': 2.725475333682133e-42},\n",
       " 'Street': {'F': 2.7010101383383804, 'p': 0.10050344625843534},\n",
       " 'Alley': {'F': 16.82144581885382, 'p': 6.009000522297279e-08},\n",
       " 'LotShape': {'F': 41.22377768780211, 'p': 1.4916478112738706e-25},\n",
       " 'LandContour': {'F': 14.669266300097055, 'p': 2.0622589368849943e-09},\n",
       " 'Utilities': {'F': 0.31975546357994256, 'p': 0.5718429152991329},\n",
       " 'LotConfig': {'F': 6.6310832907326285, 'p': 2.7524714192928094e-05},\n",
       " 'LandSlope': {'F': 2.352939402236596, 'p': 0.0954557560973795},\n",
       " 'BldgType': {'F': 14.165597151343983, 'p': 2.420316368918638e-11},\n",
       " 'RoofStyle': {'F': 12.769683798624884, 'p': 3.638986760824022e-12},\n",
       " 'MasVnrType': {'F': 112.75843149747433, 'p': 1.4670946059277903e-65},\n",
       " 'ExterQual': {'F': 424.5627860122613, 'p': 2.2579382180112206e-197},\n",
       " 'ExterCond': {'F': 10.800479937451263, 'p': 1.2565337470985494e-08},\n",
       " 'Foundation': {'F': 112.12327848418137, 'p': 3.9207616835180384e-100},\n",
       " 'BsmtQual': {'F': 308.96398684478794, 'p': 9.46833167577144e-192},\n",
       " 'BsmtCond': {'F': 22.97650318383437, 'p': 2.002614308715551e-18},\n",
       " 'BsmtExposure': {'F': 55.01317378025475, 'p': 3.387579659835125e-43},\n",
       " 'Heating': {'F': 4.977656069282251, 'p': 0.0001591709625459064},\n",
       " 'HeatingQC': {'F': 94.12276352632627, 'p': 3.820455983769816e-71},\n",
       " 'CentralAir': {'F': 114.8605052488043, 'p': 7.75919896563281e-26},\n",
       " 'Electrical': {'F': 26.423598988567225, 'p': 3.597956835993501e-21},\n",
       " 'KitchenQual': {'F': 380.65860949889435, 'p': 7.478456037653107e-182},\n",
       " 'FireplaceQu': {'F': 131.29601951418883, 'p': 1.1248023100223323e-114},\n",
       " 'GarageFinish': {'F': 240.9465992102196, 'p': 1.3371097331831577e-126},\n",
       " 'GarageQual': {'F': 30.234059485822943, 'p': 2.6962273708655215e-29},\n",
       " 'GarageCond': {'F': 30.124299244014903, 'p': 3.4392324673583247e-29},\n",
       " 'PavedDrive': {'F': 47.93478411530262, 'p': 7.041149990458388e-21},\n",
       " 'PoolQC': {'F': 0.5427867385156632, 'p': 0.6530569332229528},\n",
       " 'Fence': {'F': 16.28592971181681, 'p': 4.713959390604235e-13},\n",
       " 'MiscFeature': {'F': 2.740443599603358, 'p': 0.02738872704413161},\n",
       " 'SaleCondition': {'F': 46.69462787754278, 'p': 8.268802882275347e-45}}"
      ]
     },
     "execution_count": 188,
     "metadata": {},
     "output_type": "execute_result"
    }
   ],
   "source": [
    "anova_results"
   ]
  },
  {
   "cell_type": "code",
   "execution_count": null,
   "metadata": {},
   "outputs": [],
   "source": []
  },
  {
   "cell_type": "code",
   "execution_count": null,
   "metadata": {},
   "outputs": [],
   "source": []
  },
  {
   "cell_type": "code",
   "execution_count": null,
   "metadata": {},
   "outputs": [],
   "source": []
  },
  {
   "cell_type": "code",
   "execution_count": null,
   "metadata": {},
   "outputs": [],
   "source": []
  },
  {
   "cell_type": "code",
   "execution_count": null,
   "metadata": {},
   "outputs": [],
   "source": []
  },
  {
   "cell_type": "code",
   "execution_count": null,
   "metadata": {},
   "outputs": [],
   "source": []
  },
  {
   "cell_type": "code",
   "execution_count": null,
   "metadata": {},
   "outputs": [],
   "source": []
  },
  {
   "cell_type": "code",
   "execution_count": null,
   "metadata": {},
   "outputs": [],
   "source": []
  },
  {
   "cell_type": "code",
   "execution_count": null,
   "metadata": {},
   "outputs": [],
   "source": []
  }
 ],
 "metadata": {
  "kernelspec": {
   "display_name": "Python 3",
   "language": "python",
   "name": "python3"
  },
  "language_info": {
   "codemirror_mode": {
    "name": "ipython",
    "version": 3
   },
   "file_extension": ".py",
   "mimetype": "text/x-python",
   "name": "python",
   "nbconvert_exporter": "python",
   "pygments_lexer": "ipython3",
   "version": "3.7.1"
  }
 },
 "nbformat": 4,
 "nbformat_minor": 2
}
